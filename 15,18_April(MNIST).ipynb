{
  "nbformat": 4,
  "nbformat_minor": 0,
  "metadata": {
    "colab": {
      "name": "15,18 April(MNIST).ipynb",
      "provenance": [],
      "collapsed_sections": [],
      "authorship_tag": "ABX9TyMExAijQq8fdNg5sKX4DLXO",
      "include_colab_link": true
    },
    "kernelspec": {
      "name": "python3",
      "display_name": "Python 3"
    },
    "language_info": {
      "name": "python"
    }
  },
  "cells": [
    {
      "cell_type": "markdown",
      "metadata": {
        "id": "view-in-github",
        "colab_type": "text"
      },
      "source": [
        "<a href=\"https://colab.research.google.com/github/sameerjha462000/DS/blob/main/15%2C18_April(MNIST).ipynb\" target=\"_parent\"><img src=\"https://colab.research.google.com/assets/colab-badge.svg\" alt=\"Open In Colab\"/></a>"
      ]
    },
    {
      "cell_type": "markdown",
      "source": [
        "# __This is a Classification problem.__"
      ],
      "metadata": {
        "id": "rTNfCzgyAjT6"
      }
    },
    {
      "cell_type": "markdown",
      "source": [
        "RGB color space or RGB color system, constructs all the colors from the combination of the Red, Green and Blue colors.\n",
        "\n",
        "The red, green and blue use 8 bits each, which have integer values from 0 to 255. This makes 256 X 256 X 256=16777216 possible colors.\n",
        "\n",
        "RGB ≡ Red, Green, Blue"
      ],
      "metadata": {
        "id": "_n4OmkAJDExK"
      }
    },
    {
      "cell_type": "markdown",
      "source": [
        "In __MNIST__ dataset, Each image is 28 X 28 pixels image. For convinence, it is stored in a 1D array of 28 X 28 = 784 size."
      ],
      "metadata": {
        "id": "8pTP0dTkDUpz"
      }
    },
    {
      "cell_type": "code",
      "source": [
        "import numpy as np\n",
        "import pandas as pd\n",
        "import matplotlib.pyplot as plt\n",
        "import seaborn as sns\n"
      ],
      "metadata": {
        "id": "epjx2c9yDMRi"
      },
      "execution_count": 1,
      "outputs": []
    },
    {
      "cell_type": "code",
      "source": [
        "from sklearn.datasets import fetch_openml\n",
        "\n",
        "df=fetch_openml(\"mnist_784\",version=1,as_frame=True)"
      ],
      "metadata": {
        "id": "PvsPfSXiEZMr"
      },
      "execution_count": 2,
      "outputs": []
    },
    {
      "cell_type": "code",
      "source": [
        "df"
      ],
      "metadata": {
        "colab": {
          "base_uri": "https://localhost:8080/"
        },
        "id": "9_kIML96FDQ4",
        "outputId": "15044b34-2f67-49a3-a054-fc29d24b7d6e"
      },
      "execution_count": 3,
      "outputs": [
        {
          "output_type": "execute_result",
          "data": {
            "text/plain": [
              "{'DESCR': \"**Author**: Yann LeCun, Corinna Cortes, Christopher J.C. Burges  \\n**Source**: [MNIST Website](http://yann.lecun.com/exdb/mnist/) - Date unknown  \\n**Please cite**:  \\n\\nThe MNIST database of handwritten digits with 784 features, raw data available at: http://yann.lecun.com/exdb/mnist/. It can be split in a training set of the first 60,000 examples, and a test set of 10,000 examples  \\n\\nIt is a subset of a larger set available from NIST. The digits have been size-normalized and centered in a fixed-size image. It is a good database for people who want to try learning techniques and pattern recognition methods on real-world data while spending minimal efforts on preprocessing and formatting. The original black and white (bilevel) images from NIST were size normalized to fit in a 20x20 pixel box while preserving their aspect ratio. The resulting images contain grey levels as a result of the anti-aliasing technique used by the normalization algorithm. the images were centered in a 28x28 image by computing the center of mass of the pixels, and translating the image so as to position this point at the center of the 28x28 field.  \\n\\nWith some classification methods (particularly template-based methods, such as SVM and K-nearest neighbors), the error rate improves when the digits are centered by bounding box rather than center of mass. If you do this kind of pre-processing, you should report it in your publications. The MNIST database was constructed from NIST's NIST originally designated SD-3 as their training set and SD-1 as their test set. However, SD-3 is much cleaner and easier to recognize than SD-1. The reason for this can be found on the fact that SD-3 was collected among Census Bureau employees, while SD-1 was collected among high-school students. Drawing sensible conclusions from learning experiments requires that the result be independent of the choice of training set and test among the complete set of samples. Therefore it was necessary to build a new database by mixing NIST's datasets.  \\n\\nThe MNIST training set is composed of 30,000 patterns from SD-3 and 30,000 patterns from SD-1. Our test set was composed of 5,000 patterns from SD-3 and 5,000 patterns from SD-1. The 60,000 pattern training set contained examples from approximately 250 writers. We made sure that the sets of writers of the training set and test set were disjoint. SD-1 contains 58,527 digit images written by 500 different writers. In contrast to SD-3, where blocks of data from each writer appeared in sequence, the data in SD-1 is scrambled. Writer identities for SD-1 is available and we used this information to unscramble the writers. We then split SD-1 in two: characters written by the first 250 writers went into our new training set. The remaining 250 writers were placed in our test set. Thus we had two sets with nearly 30,000 examples each. The new training set was completed with enough examples from SD-3, starting at pattern # 0, to make a full set of 60,000 training patterns. Similarly, the new test set was completed with SD-3 examples starting at pattern # 35,000 to make a full set with 60,000 test patterns. Only a subset of 10,000 test images (5,000 from SD-1 and 5,000 from SD-3) is available on this site. The full 60,000 sample training set is available.\\n\\nDownloaded from openml.org.\",\n",
              " 'categories': None,\n",
              " 'data':        pixel1  pixel2  pixel3  pixel4  pixel5  pixel6  pixel7  pixel8  pixel9  \\\n",
              " 0         0.0     0.0     0.0     0.0     0.0     0.0     0.0     0.0     0.0   \n",
              " 1         0.0     0.0     0.0     0.0     0.0     0.0     0.0     0.0     0.0   \n",
              " 2         0.0     0.0     0.0     0.0     0.0     0.0     0.0     0.0     0.0   \n",
              " 3         0.0     0.0     0.0     0.0     0.0     0.0     0.0     0.0     0.0   \n",
              " 4         0.0     0.0     0.0     0.0     0.0     0.0     0.0     0.0     0.0   \n",
              " ...       ...     ...     ...     ...     ...     ...     ...     ...     ...   \n",
              " 69995     0.0     0.0     0.0     0.0     0.0     0.0     0.0     0.0     0.0   \n",
              " 69996     0.0     0.0     0.0     0.0     0.0     0.0     0.0     0.0     0.0   \n",
              " 69997     0.0     0.0     0.0     0.0     0.0     0.0     0.0     0.0     0.0   \n",
              " 69998     0.0     0.0     0.0     0.0     0.0     0.0     0.0     0.0     0.0   \n",
              " 69999     0.0     0.0     0.0     0.0     0.0     0.0     0.0     0.0     0.0   \n",
              " \n",
              "        pixel10  ...  pixel775  pixel776  pixel777  pixel778  pixel779  \\\n",
              " 0          0.0  ...       0.0       0.0       0.0       0.0       0.0   \n",
              " 1          0.0  ...       0.0       0.0       0.0       0.0       0.0   \n",
              " 2          0.0  ...       0.0       0.0       0.0       0.0       0.0   \n",
              " 3          0.0  ...       0.0       0.0       0.0       0.0       0.0   \n",
              " 4          0.0  ...       0.0       0.0       0.0       0.0       0.0   \n",
              " ...        ...  ...       ...       ...       ...       ...       ...   \n",
              " 69995      0.0  ...       0.0       0.0       0.0       0.0       0.0   \n",
              " 69996      0.0  ...       0.0       0.0       0.0       0.0       0.0   \n",
              " 69997      0.0  ...       0.0       0.0       0.0       0.0       0.0   \n",
              " 69998      0.0  ...       0.0       0.0       0.0       0.0       0.0   \n",
              " 69999      0.0  ...       0.0       0.0       0.0       0.0       0.0   \n",
              " \n",
              "        pixel780  pixel781  pixel782  pixel783  pixel784  \n",
              " 0           0.0       0.0       0.0       0.0       0.0  \n",
              " 1           0.0       0.0       0.0       0.0       0.0  \n",
              " 2           0.0       0.0       0.0       0.0       0.0  \n",
              " 3           0.0       0.0       0.0       0.0       0.0  \n",
              " 4           0.0       0.0       0.0       0.0       0.0  \n",
              " ...         ...       ...       ...       ...       ...  \n",
              " 69995       0.0       0.0       0.0       0.0       0.0  \n",
              " 69996       0.0       0.0       0.0       0.0       0.0  \n",
              " 69997       0.0       0.0       0.0       0.0       0.0  \n",
              " 69998       0.0       0.0       0.0       0.0       0.0  \n",
              " 69999       0.0       0.0       0.0       0.0       0.0  \n",
              " \n",
              " [70000 rows x 784 columns],\n",
              " 'details': {'creator': ['Yann LeCun',\n",
              "   'Corinna Cortes',\n",
              "   'Christopher J.C. Burges'],\n",
              "  'default_target_attribute': 'class',\n",
              "  'description_version': '1',\n",
              "  'file_id': '52667',\n",
              "  'format': 'ARFF',\n",
              "  'id': '554',\n",
              "  'language': 'English',\n",
              "  'licence': 'Public',\n",
              "  'md5_checksum': '0298d579eb1b86163de7723944c7e495',\n",
              "  'minio_url': 'http://openml1.win.tue.nl/dataset554/dataset_554.pq',\n",
              "  'name': 'mnist_784',\n",
              "  'processing_date': '2020-11-20 20:12:09',\n",
              "  'status': 'active',\n",
              "  'tag': ['AzurePilot',\n",
              "   'OpenML-CC18',\n",
              "   'OpenML100',\n",
              "   'study_1',\n",
              "   'study_123',\n",
              "   'study_41',\n",
              "   'study_99',\n",
              "   'vision'],\n",
              "  'upload_date': '2014-09-29T03:28:38',\n",
              "  'url': 'https://old.openml.org/data/v1/download/52667/mnist_784.arff',\n",
              "  'version': '1',\n",
              "  'visibility': 'public'},\n",
              " 'feature_names': ['pixel1',\n",
              "  'pixel2',\n",
              "  'pixel3',\n",
              "  'pixel4',\n",
              "  'pixel5',\n",
              "  'pixel6',\n",
              "  'pixel7',\n",
              "  'pixel8',\n",
              "  'pixel9',\n",
              "  'pixel10',\n",
              "  'pixel11',\n",
              "  'pixel12',\n",
              "  'pixel13',\n",
              "  'pixel14',\n",
              "  'pixel15',\n",
              "  'pixel16',\n",
              "  'pixel17',\n",
              "  'pixel18',\n",
              "  'pixel19',\n",
              "  'pixel20',\n",
              "  'pixel21',\n",
              "  'pixel22',\n",
              "  'pixel23',\n",
              "  'pixel24',\n",
              "  'pixel25',\n",
              "  'pixel26',\n",
              "  'pixel27',\n",
              "  'pixel28',\n",
              "  'pixel29',\n",
              "  'pixel30',\n",
              "  'pixel31',\n",
              "  'pixel32',\n",
              "  'pixel33',\n",
              "  'pixel34',\n",
              "  'pixel35',\n",
              "  'pixel36',\n",
              "  'pixel37',\n",
              "  'pixel38',\n",
              "  'pixel39',\n",
              "  'pixel40',\n",
              "  'pixel41',\n",
              "  'pixel42',\n",
              "  'pixel43',\n",
              "  'pixel44',\n",
              "  'pixel45',\n",
              "  'pixel46',\n",
              "  'pixel47',\n",
              "  'pixel48',\n",
              "  'pixel49',\n",
              "  'pixel50',\n",
              "  'pixel51',\n",
              "  'pixel52',\n",
              "  'pixel53',\n",
              "  'pixel54',\n",
              "  'pixel55',\n",
              "  'pixel56',\n",
              "  'pixel57',\n",
              "  'pixel58',\n",
              "  'pixel59',\n",
              "  'pixel60',\n",
              "  'pixel61',\n",
              "  'pixel62',\n",
              "  'pixel63',\n",
              "  'pixel64',\n",
              "  'pixel65',\n",
              "  'pixel66',\n",
              "  'pixel67',\n",
              "  'pixel68',\n",
              "  'pixel69',\n",
              "  'pixel70',\n",
              "  'pixel71',\n",
              "  'pixel72',\n",
              "  'pixel73',\n",
              "  'pixel74',\n",
              "  'pixel75',\n",
              "  'pixel76',\n",
              "  'pixel77',\n",
              "  'pixel78',\n",
              "  'pixel79',\n",
              "  'pixel80',\n",
              "  'pixel81',\n",
              "  'pixel82',\n",
              "  'pixel83',\n",
              "  'pixel84',\n",
              "  'pixel85',\n",
              "  'pixel86',\n",
              "  'pixel87',\n",
              "  'pixel88',\n",
              "  'pixel89',\n",
              "  'pixel90',\n",
              "  'pixel91',\n",
              "  'pixel92',\n",
              "  'pixel93',\n",
              "  'pixel94',\n",
              "  'pixel95',\n",
              "  'pixel96',\n",
              "  'pixel97',\n",
              "  'pixel98',\n",
              "  'pixel99',\n",
              "  'pixel100',\n",
              "  'pixel101',\n",
              "  'pixel102',\n",
              "  'pixel103',\n",
              "  'pixel104',\n",
              "  'pixel105',\n",
              "  'pixel106',\n",
              "  'pixel107',\n",
              "  'pixel108',\n",
              "  'pixel109',\n",
              "  'pixel110',\n",
              "  'pixel111',\n",
              "  'pixel112',\n",
              "  'pixel113',\n",
              "  'pixel114',\n",
              "  'pixel115',\n",
              "  'pixel116',\n",
              "  'pixel117',\n",
              "  'pixel118',\n",
              "  'pixel119',\n",
              "  'pixel120',\n",
              "  'pixel121',\n",
              "  'pixel122',\n",
              "  'pixel123',\n",
              "  'pixel124',\n",
              "  'pixel125',\n",
              "  'pixel126',\n",
              "  'pixel127',\n",
              "  'pixel128',\n",
              "  'pixel129',\n",
              "  'pixel130',\n",
              "  'pixel131',\n",
              "  'pixel132',\n",
              "  'pixel133',\n",
              "  'pixel134',\n",
              "  'pixel135',\n",
              "  'pixel136',\n",
              "  'pixel137',\n",
              "  'pixel138',\n",
              "  'pixel139',\n",
              "  'pixel140',\n",
              "  'pixel141',\n",
              "  'pixel142',\n",
              "  'pixel143',\n",
              "  'pixel144',\n",
              "  'pixel145',\n",
              "  'pixel146',\n",
              "  'pixel147',\n",
              "  'pixel148',\n",
              "  'pixel149',\n",
              "  'pixel150',\n",
              "  'pixel151',\n",
              "  'pixel152',\n",
              "  'pixel153',\n",
              "  'pixel154',\n",
              "  'pixel155',\n",
              "  'pixel156',\n",
              "  'pixel157',\n",
              "  'pixel158',\n",
              "  'pixel159',\n",
              "  'pixel160',\n",
              "  'pixel161',\n",
              "  'pixel162',\n",
              "  'pixel163',\n",
              "  'pixel164',\n",
              "  'pixel165',\n",
              "  'pixel166',\n",
              "  'pixel167',\n",
              "  'pixel168',\n",
              "  'pixel169',\n",
              "  'pixel170',\n",
              "  'pixel171',\n",
              "  'pixel172',\n",
              "  'pixel173',\n",
              "  'pixel174',\n",
              "  'pixel175',\n",
              "  'pixel176',\n",
              "  'pixel177',\n",
              "  'pixel178',\n",
              "  'pixel179',\n",
              "  'pixel180',\n",
              "  'pixel181',\n",
              "  'pixel182',\n",
              "  'pixel183',\n",
              "  'pixel184',\n",
              "  'pixel185',\n",
              "  'pixel186',\n",
              "  'pixel187',\n",
              "  'pixel188',\n",
              "  'pixel189',\n",
              "  'pixel190',\n",
              "  'pixel191',\n",
              "  'pixel192',\n",
              "  'pixel193',\n",
              "  'pixel194',\n",
              "  'pixel195',\n",
              "  'pixel196',\n",
              "  'pixel197',\n",
              "  'pixel198',\n",
              "  'pixel199',\n",
              "  'pixel200',\n",
              "  'pixel201',\n",
              "  'pixel202',\n",
              "  'pixel203',\n",
              "  'pixel204',\n",
              "  'pixel205',\n",
              "  'pixel206',\n",
              "  'pixel207',\n",
              "  'pixel208',\n",
              "  'pixel209',\n",
              "  'pixel210',\n",
              "  'pixel211',\n",
              "  'pixel212',\n",
              "  'pixel213',\n",
              "  'pixel214',\n",
              "  'pixel215',\n",
              "  'pixel216',\n",
              "  'pixel217',\n",
              "  'pixel218',\n",
              "  'pixel219',\n",
              "  'pixel220',\n",
              "  'pixel221',\n",
              "  'pixel222',\n",
              "  'pixel223',\n",
              "  'pixel224',\n",
              "  'pixel225',\n",
              "  'pixel226',\n",
              "  'pixel227',\n",
              "  'pixel228',\n",
              "  'pixel229',\n",
              "  'pixel230',\n",
              "  'pixel231',\n",
              "  'pixel232',\n",
              "  'pixel233',\n",
              "  'pixel234',\n",
              "  'pixel235',\n",
              "  'pixel236',\n",
              "  'pixel237',\n",
              "  'pixel238',\n",
              "  'pixel239',\n",
              "  'pixel240',\n",
              "  'pixel241',\n",
              "  'pixel242',\n",
              "  'pixel243',\n",
              "  'pixel244',\n",
              "  'pixel245',\n",
              "  'pixel246',\n",
              "  'pixel247',\n",
              "  'pixel248',\n",
              "  'pixel249',\n",
              "  'pixel250',\n",
              "  'pixel251',\n",
              "  'pixel252',\n",
              "  'pixel253',\n",
              "  'pixel254',\n",
              "  'pixel255',\n",
              "  'pixel256',\n",
              "  'pixel257',\n",
              "  'pixel258',\n",
              "  'pixel259',\n",
              "  'pixel260',\n",
              "  'pixel261',\n",
              "  'pixel262',\n",
              "  'pixel263',\n",
              "  'pixel264',\n",
              "  'pixel265',\n",
              "  'pixel266',\n",
              "  'pixel267',\n",
              "  'pixel268',\n",
              "  'pixel269',\n",
              "  'pixel270',\n",
              "  'pixel271',\n",
              "  'pixel272',\n",
              "  'pixel273',\n",
              "  'pixel274',\n",
              "  'pixel275',\n",
              "  'pixel276',\n",
              "  'pixel277',\n",
              "  'pixel278',\n",
              "  'pixel279',\n",
              "  'pixel280',\n",
              "  'pixel281',\n",
              "  'pixel282',\n",
              "  'pixel283',\n",
              "  'pixel284',\n",
              "  'pixel285',\n",
              "  'pixel286',\n",
              "  'pixel287',\n",
              "  'pixel288',\n",
              "  'pixel289',\n",
              "  'pixel290',\n",
              "  'pixel291',\n",
              "  'pixel292',\n",
              "  'pixel293',\n",
              "  'pixel294',\n",
              "  'pixel295',\n",
              "  'pixel296',\n",
              "  'pixel297',\n",
              "  'pixel298',\n",
              "  'pixel299',\n",
              "  'pixel300',\n",
              "  'pixel301',\n",
              "  'pixel302',\n",
              "  'pixel303',\n",
              "  'pixel304',\n",
              "  'pixel305',\n",
              "  'pixel306',\n",
              "  'pixel307',\n",
              "  'pixel308',\n",
              "  'pixel309',\n",
              "  'pixel310',\n",
              "  'pixel311',\n",
              "  'pixel312',\n",
              "  'pixel313',\n",
              "  'pixel314',\n",
              "  'pixel315',\n",
              "  'pixel316',\n",
              "  'pixel317',\n",
              "  'pixel318',\n",
              "  'pixel319',\n",
              "  'pixel320',\n",
              "  'pixel321',\n",
              "  'pixel322',\n",
              "  'pixel323',\n",
              "  'pixel324',\n",
              "  'pixel325',\n",
              "  'pixel326',\n",
              "  'pixel327',\n",
              "  'pixel328',\n",
              "  'pixel329',\n",
              "  'pixel330',\n",
              "  'pixel331',\n",
              "  'pixel332',\n",
              "  'pixel333',\n",
              "  'pixel334',\n",
              "  'pixel335',\n",
              "  'pixel336',\n",
              "  'pixel337',\n",
              "  'pixel338',\n",
              "  'pixel339',\n",
              "  'pixel340',\n",
              "  'pixel341',\n",
              "  'pixel342',\n",
              "  'pixel343',\n",
              "  'pixel344',\n",
              "  'pixel345',\n",
              "  'pixel346',\n",
              "  'pixel347',\n",
              "  'pixel348',\n",
              "  'pixel349',\n",
              "  'pixel350',\n",
              "  'pixel351',\n",
              "  'pixel352',\n",
              "  'pixel353',\n",
              "  'pixel354',\n",
              "  'pixel355',\n",
              "  'pixel356',\n",
              "  'pixel357',\n",
              "  'pixel358',\n",
              "  'pixel359',\n",
              "  'pixel360',\n",
              "  'pixel361',\n",
              "  'pixel362',\n",
              "  'pixel363',\n",
              "  'pixel364',\n",
              "  'pixel365',\n",
              "  'pixel366',\n",
              "  'pixel367',\n",
              "  'pixel368',\n",
              "  'pixel369',\n",
              "  'pixel370',\n",
              "  'pixel371',\n",
              "  'pixel372',\n",
              "  'pixel373',\n",
              "  'pixel374',\n",
              "  'pixel375',\n",
              "  'pixel376',\n",
              "  'pixel377',\n",
              "  'pixel378',\n",
              "  'pixel379',\n",
              "  'pixel380',\n",
              "  'pixel381',\n",
              "  'pixel382',\n",
              "  'pixel383',\n",
              "  'pixel384',\n",
              "  'pixel385',\n",
              "  'pixel386',\n",
              "  'pixel387',\n",
              "  'pixel388',\n",
              "  'pixel389',\n",
              "  'pixel390',\n",
              "  'pixel391',\n",
              "  'pixel392',\n",
              "  'pixel393',\n",
              "  'pixel394',\n",
              "  'pixel395',\n",
              "  'pixel396',\n",
              "  'pixel397',\n",
              "  'pixel398',\n",
              "  'pixel399',\n",
              "  'pixel400',\n",
              "  'pixel401',\n",
              "  'pixel402',\n",
              "  'pixel403',\n",
              "  'pixel404',\n",
              "  'pixel405',\n",
              "  'pixel406',\n",
              "  'pixel407',\n",
              "  'pixel408',\n",
              "  'pixel409',\n",
              "  'pixel410',\n",
              "  'pixel411',\n",
              "  'pixel412',\n",
              "  'pixel413',\n",
              "  'pixel414',\n",
              "  'pixel415',\n",
              "  'pixel416',\n",
              "  'pixel417',\n",
              "  'pixel418',\n",
              "  'pixel419',\n",
              "  'pixel420',\n",
              "  'pixel421',\n",
              "  'pixel422',\n",
              "  'pixel423',\n",
              "  'pixel424',\n",
              "  'pixel425',\n",
              "  'pixel426',\n",
              "  'pixel427',\n",
              "  'pixel428',\n",
              "  'pixel429',\n",
              "  'pixel430',\n",
              "  'pixel431',\n",
              "  'pixel432',\n",
              "  'pixel433',\n",
              "  'pixel434',\n",
              "  'pixel435',\n",
              "  'pixel436',\n",
              "  'pixel437',\n",
              "  'pixel438',\n",
              "  'pixel439',\n",
              "  'pixel440',\n",
              "  'pixel441',\n",
              "  'pixel442',\n",
              "  'pixel443',\n",
              "  'pixel444',\n",
              "  'pixel445',\n",
              "  'pixel446',\n",
              "  'pixel447',\n",
              "  'pixel448',\n",
              "  'pixel449',\n",
              "  'pixel450',\n",
              "  'pixel451',\n",
              "  'pixel452',\n",
              "  'pixel453',\n",
              "  'pixel454',\n",
              "  'pixel455',\n",
              "  'pixel456',\n",
              "  'pixel457',\n",
              "  'pixel458',\n",
              "  'pixel459',\n",
              "  'pixel460',\n",
              "  'pixel461',\n",
              "  'pixel462',\n",
              "  'pixel463',\n",
              "  'pixel464',\n",
              "  'pixel465',\n",
              "  'pixel466',\n",
              "  'pixel467',\n",
              "  'pixel468',\n",
              "  'pixel469',\n",
              "  'pixel470',\n",
              "  'pixel471',\n",
              "  'pixel472',\n",
              "  'pixel473',\n",
              "  'pixel474',\n",
              "  'pixel475',\n",
              "  'pixel476',\n",
              "  'pixel477',\n",
              "  'pixel478',\n",
              "  'pixel479',\n",
              "  'pixel480',\n",
              "  'pixel481',\n",
              "  'pixel482',\n",
              "  'pixel483',\n",
              "  'pixel484',\n",
              "  'pixel485',\n",
              "  'pixel486',\n",
              "  'pixel487',\n",
              "  'pixel488',\n",
              "  'pixel489',\n",
              "  'pixel490',\n",
              "  'pixel491',\n",
              "  'pixel492',\n",
              "  'pixel493',\n",
              "  'pixel494',\n",
              "  'pixel495',\n",
              "  'pixel496',\n",
              "  'pixel497',\n",
              "  'pixel498',\n",
              "  'pixel499',\n",
              "  'pixel500',\n",
              "  'pixel501',\n",
              "  'pixel502',\n",
              "  'pixel503',\n",
              "  'pixel504',\n",
              "  'pixel505',\n",
              "  'pixel506',\n",
              "  'pixel507',\n",
              "  'pixel508',\n",
              "  'pixel509',\n",
              "  'pixel510',\n",
              "  'pixel511',\n",
              "  'pixel512',\n",
              "  'pixel513',\n",
              "  'pixel514',\n",
              "  'pixel515',\n",
              "  'pixel516',\n",
              "  'pixel517',\n",
              "  'pixel518',\n",
              "  'pixel519',\n",
              "  'pixel520',\n",
              "  'pixel521',\n",
              "  'pixel522',\n",
              "  'pixel523',\n",
              "  'pixel524',\n",
              "  'pixel525',\n",
              "  'pixel526',\n",
              "  'pixel527',\n",
              "  'pixel528',\n",
              "  'pixel529',\n",
              "  'pixel530',\n",
              "  'pixel531',\n",
              "  'pixel532',\n",
              "  'pixel533',\n",
              "  'pixel534',\n",
              "  'pixel535',\n",
              "  'pixel536',\n",
              "  'pixel537',\n",
              "  'pixel538',\n",
              "  'pixel539',\n",
              "  'pixel540',\n",
              "  'pixel541',\n",
              "  'pixel542',\n",
              "  'pixel543',\n",
              "  'pixel544',\n",
              "  'pixel545',\n",
              "  'pixel546',\n",
              "  'pixel547',\n",
              "  'pixel548',\n",
              "  'pixel549',\n",
              "  'pixel550',\n",
              "  'pixel551',\n",
              "  'pixel552',\n",
              "  'pixel553',\n",
              "  'pixel554',\n",
              "  'pixel555',\n",
              "  'pixel556',\n",
              "  'pixel557',\n",
              "  'pixel558',\n",
              "  'pixel559',\n",
              "  'pixel560',\n",
              "  'pixel561',\n",
              "  'pixel562',\n",
              "  'pixel563',\n",
              "  'pixel564',\n",
              "  'pixel565',\n",
              "  'pixel566',\n",
              "  'pixel567',\n",
              "  'pixel568',\n",
              "  'pixel569',\n",
              "  'pixel570',\n",
              "  'pixel571',\n",
              "  'pixel572',\n",
              "  'pixel573',\n",
              "  'pixel574',\n",
              "  'pixel575',\n",
              "  'pixel576',\n",
              "  'pixel577',\n",
              "  'pixel578',\n",
              "  'pixel579',\n",
              "  'pixel580',\n",
              "  'pixel581',\n",
              "  'pixel582',\n",
              "  'pixel583',\n",
              "  'pixel584',\n",
              "  'pixel585',\n",
              "  'pixel586',\n",
              "  'pixel587',\n",
              "  'pixel588',\n",
              "  'pixel589',\n",
              "  'pixel590',\n",
              "  'pixel591',\n",
              "  'pixel592',\n",
              "  'pixel593',\n",
              "  'pixel594',\n",
              "  'pixel595',\n",
              "  'pixel596',\n",
              "  'pixel597',\n",
              "  'pixel598',\n",
              "  'pixel599',\n",
              "  'pixel600',\n",
              "  'pixel601',\n",
              "  'pixel602',\n",
              "  'pixel603',\n",
              "  'pixel604',\n",
              "  'pixel605',\n",
              "  'pixel606',\n",
              "  'pixel607',\n",
              "  'pixel608',\n",
              "  'pixel609',\n",
              "  'pixel610',\n",
              "  'pixel611',\n",
              "  'pixel612',\n",
              "  'pixel613',\n",
              "  'pixel614',\n",
              "  'pixel615',\n",
              "  'pixel616',\n",
              "  'pixel617',\n",
              "  'pixel618',\n",
              "  'pixel619',\n",
              "  'pixel620',\n",
              "  'pixel621',\n",
              "  'pixel622',\n",
              "  'pixel623',\n",
              "  'pixel624',\n",
              "  'pixel625',\n",
              "  'pixel626',\n",
              "  'pixel627',\n",
              "  'pixel628',\n",
              "  'pixel629',\n",
              "  'pixel630',\n",
              "  'pixel631',\n",
              "  'pixel632',\n",
              "  'pixel633',\n",
              "  'pixel634',\n",
              "  'pixel635',\n",
              "  'pixel636',\n",
              "  'pixel637',\n",
              "  'pixel638',\n",
              "  'pixel639',\n",
              "  'pixel640',\n",
              "  'pixel641',\n",
              "  'pixel642',\n",
              "  'pixel643',\n",
              "  'pixel644',\n",
              "  'pixel645',\n",
              "  'pixel646',\n",
              "  'pixel647',\n",
              "  'pixel648',\n",
              "  'pixel649',\n",
              "  'pixel650',\n",
              "  'pixel651',\n",
              "  'pixel652',\n",
              "  'pixel653',\n",
              "  'pixel654',\n",
              "  'pixel655',\n",
              "  'pixel656',\n",
              "  'pixel657',\n",
              "  'pixel658',\n",
              "  'pixel659',\n",
              "  'pixel660',\n",
              "  'pixel661',\n",
              "  'pixel662',\n",
              "  'pixel663',\n",
              "  'pixel664',\n",
              "  'pixel665',\n",
              "  'pixel666',\n",
              "  'pixel667',\n",
              "  'pixel668',\n",
              "  'pixel669',\n",
              "  'pixel670',\n",
              "  'pixel671',\n",
              "  'pixel672',\n",
              "  'pixel673',\n",
              "  'pixel674',\n",
              "  'pixel675',\n",
              "  'pixel676',\n",
              "  'pixel677',\n",
              "  'pixel678',\n",
              "  'pixel679',\n",
              "  'pixel680',\n",
              "  'pixel681',\n",
              "  'pixel682',\n",
              "  'pixel683',\n",
              "  'pixel684',\n",
              "  'pixel685',\n",
              "  'pixel686',\n",
              "  'pixel687',\n",
              "  'pixel688',\n",
              "  'pixel689',\n",
              "  'pixel690',\n",
              "  'pixel691',\n",
              "  'pixel692',\n",
              "  'pixel693',\n",
              "  'pixel694',\n",
              "  'pixel695',\n",
              "  'pixel696',\n",
              "  'pixel697',\n",
              "  'pixel698',\n",
              "  'pixel699',\n",
              "  'pixel700',\n",
              "  'pixel701',\n",
              "  'pixel702',\n",
              "  'pixel703',\n",
              "  'pixel704',\n",
              "  'pixel705',\n",
              "  'pixel706',\n",
              "  'pixel707',\n",
              "  'pixel708',\n",
              "  'pixel709',\n",
              "  'pixel710',\n",
              "  'pixel711',\n",
              "  'pixel712',\n",
              "  'pixel713',\n",
              "  'pixel714',\n",
              "  'pixel715',\n",
              "  'pixel716',\n",
              "  'pixel717',\n",
              "  'pixel718',\n",
              "  'pixel719',\n",
              "  'pixel720',\n",
              "  'pixel721',\n",
              "  'pixel722',\n",
              "  'pixel723',\n",
              "  'pixel724',\n",
              "  'pixel725',\n",
              "  'pixel726',\n",
              "  'pixel727',\n",
              "  'pixel728',\n",
              "  'pixel729',\n",
              "  'pixel730',\n",
              "  'pixel731',\n",
              "  'pixel732',\n",
              "  'pixel733',\n",
              "  'pixel734',\n",
              "  'pixel735',\n",
              "  'pixel736',\n",
              "  'pixel737',\n",
              "  'pixel738',\n",
              "  'pixel739',\n",
              "  'pixel740',\n",
              "  'pixel741',\n",
              "  'pixel742',\n",
              "  'pixel743',\n",
              "  'pixel744',\n",
              "  'pixel745',\n",
              "  'pixel746',\n",
              "  'pixel747',\n",
              "  'pixel748',\n",
              "  'pixel749',\n",
              "  'pixel750',\n",
              "  'pixel751',\n",
              "  'pixel752',\n",
              "  'pixel753',\n",
              "  'pixel754',\n",
              "  'pixel755',\n",
              "  'pixel756',\n",
              "  'pixel757',\n",
              "  'pixel758',\n",
              "  'pixel759',\n",
              "  'pixel760',\n",
              "  'pixel761',\n",
              "  'pixel762',\n",
              "  'pixel763',\n",
              "  'pixel764',\n",
              "  'pixel765',\n",
              "  'pixel766',\n",
              "  'pixel767',\n",
              "  'pixel768',\n",
              "  'pixel769',\n",
              "  'pixel770',\n",
              "  'pixel771',\n",
              "  'pixel772',\n",
              "  'pixel773',\n",
              "  'pixel774',\n",
              "  'pixel775',\n",
              "  'pixel776',\n",
              "  'pixel777',\n",
              "  'pixel778',\n",
              "  'pixel779',\n",
              "  'pixel780',\n",
              "  'pixel781',\n",
              "  'pixel782',\n",
              "  'pixel783',\n",
              "  'pixel784'],\n",
              " 'frame':        pixel1  pixel2  pixel3  pixel4  pixel5  pixel6  pixel7  pixel8  pixel9  \\\n",
              " 0         0.0     0.0     0.0     0.0     0.0     0.0     0.0     0.0     0.0   \n",
              " 1         0.0     0.0     0.0     0.0     0.0     0.0     0.0     0.0     0.0   \n",
              " 2         0.0     0.0     0.0     0.0     0.0     0.0     0.0     0.0     0.0   \n",
              " 3         0.0     0.0     0.0     0.0     0.0     0.0     0.0     0.0     0.0   \n",
              " 4         0.0     0.0     0.0     0.0     0.0     0.0     0.0     0.0     0.0   \n",
              " ...       ...     ...     ...     ...     ...     ...     ...     ...     ...   \n",
              " 69995     0.0     0.0     0.0     0.0     0.0     0.0     0.0     0.0     0.0   \n",
              " 69996     0.0     0.0     0.0     0.0     0.0     0.0     0.0     0.0     0.0   \n",
              " 69997     0.0     0.0     0.0     0.0     0.0     0.0     0.0     0.0     0.0   \n",
              " 69998     0.0     0.0     0.0     0.0     0.0     0.0     0.0     0.0     0.0   \n",
              " 69999     0.0     0.0     0.0     0.0     0.0     0.0     0.0     0.0     0.0   \n",
              " \n",
              "        pixel10  ...  pixel776  pixel777  pixel778  pixel779  pixel780  \\\n",
              " 0          0.0  ...       0.0       0.0       0.0       0.0       0.0   \n",
              " 1          0.0  ...       0.0       0.0       0.0       0.0       0.0   \n",
              " 2          0.0  ...       0.0       0.0       0.0       0.0       0.0   \n",
              " 3          0.0  ...       0.0       0.0       0.0       0.0       0.0   \n",
              " 4          0.0  ...       0.0       0.0       0.0       0.0       0.0   \n",
              " ...        ...  ...       ...       ...       ...       ...       ...   \n",
              " 69995      0.0  ...       0.0       0.0       0.0       0.0       0.0   \n",
              " 69996      0.0  ...       0.0       0.0       0.0       0.0       0.0   \n",
              " 69997      0.0  ...       0.0       0.0       0.0       0.0       0.0   \n",
              " 69998      0.0  ...       0.0       0.0       0.0       0.0       0.0   \n",
              " 69999      0.0  ...       0.0       0.0       0.0       0.0       0.0   \n",
              " \n",
              "        pixel781  pixel782  pixel783  pixel784  class  \n",
              " 0           0.0       0.0       0.0       0.0      5  \n",
              " 1           0.0       0.0       0.0       0.0      0  \n",
              " 2           0.0       0.0       0.0       0.0      4  \n",
              " 3           0.0       0.0       0.0       0.0      1  \n",
              " 4           0.0       0.0       0.0       0.0      9  \n",
              " ...         ...       ...       ...       ...    ...  \n",
              " 69995       0.0       0.0       0.0       0.0      2  \n",
              " 69996       0.0       0.0       0.0       0.0      3  \n",
              " 69997       0.0       0.0       0.0       0.0      4  \n",
              " 69998       0.0       0.0       0.0       0.0      5  \n",
              " 69999       0.0       0.0       0.0       0.0      6  \n",
              " \n",
              " [70000 rows x 785 columns],\n",
              " 'target': 0        5\n",
              " 1        0\n",
              " 2        4\n",
              " 3        1\n",
              " 4        9\n",
              "         ..\n",
              " 69995    2\n",
              " 69996    3\n",
              " 69997    4\n",
              " 69998    5\n",
              " 69999    6\n",
              " Name: class, Length: 70000, dtype: category\n",
              " Categories (10, object): ['0', '1', '2', '3', ..., '6', '7', '8', '9'],\n",
              " 'target_names': ['class'],\n",
              " 'url': 'https://www.openml.org/d/554'}"
            ]
          },
          "metadata": {},
          "execution_count": 3
        }
      ]
    },
    {
      "cell_type": "code",
      "source": [
        "# df is a complicated data structure \n",
        "type(df)"
      ],
      "metadata": {
        "colab": {
          "base_uri": "https://localhost:8080/"
        },
        "id": "1QBRzvVlFQBs",
        "outputId": "a7d583c1-b0c9-478e-8062-ad4bf806a134"
      },
      "execution_count": 4,
      "outputs": [
        {
          "output_type": "execute_result",
          "data": {
            "text/plain": [
              "sklearn.utils.Bunch"
            ]
          },
          "metadata": {},
          "execution_count": 4
        }
      ]
    },
    {
      "cell_type": "code",
      "source": [
        "df.keys()"
      ],
      "metadata": {
        "id": "PIg8wTQ5TrNc",
        "colab": {
          "base_uri": "https://localhost:8080/"
        },
        "outputId": "28a1afbc-1a30-4847-9256-6d4c7c060a5d"
      },
      "execution_count": 5,
      "outputs": [
        {
          "output_type": "execute_result",
          "data": {
            "text/plain": [
              "dict_keys(['data', 'target', 'frame', 'categories', 'feature_names', 'target_names', 'DESCR', 'details', 'url'])"
            ]
          },
          "metadata": {},
          "execution_count": 5
        }
      ]
    },
    {
      "cell_type": "code",
      "source": [
        "print(df.DESCR)"
      ],
      "metadata": {
        "colab": {
          "base_uri": "https://localhost:8080/"
        },
        "id": "AkfkNPwxUXmh",
        "outputId": "b2236055-862f-4e94-fea0-eaecc4512881"
      },
      "execution_count": 6,
      "outputs": [
        {
          "output_type": "stream",
          "name": "stdout",
          "text": [
            "**Author**: Yann LeCun, Corinna Cortes, Christopher J.C. Burges  \n",
            "**Source**: [MNIST Website](http://yann.lecun.com/exdb/mnist/) - Date unknown  \n",
            "**Please cite**:  \n",
            "\n",
            "The MNIST database of handwritten digits with 784 features, raw data available at: http://yann.lecun.com/exdb/mnist/. It can be split in a training set of the first 60,000 examples, and a test set of 10,000 examples  \n",
            "\n",
            "It is a subset of a larger set available from NIST. The digits have been size-normalized and centered in a fixed-size image. It is a good database for people who want to try learning techniques and pattern recognition methods on real-world data while spending minimal efforts on preprocessing and formatting. The original black and white (bilevel) images from NIST were size normalized to fit in a 20x20 pixel box while preserving their aspect ratio. The resulting images contain grey levels as a result of the anti-aliasing technique used by the normalization algorithm. the images were centered in a 28x28 image by computing the center of mass of the pixels, and translating the image so as to position this point at the center of the 28x28 field.  \n",
            "\n",
            "With some classification methods (particularly template-based methods, such as SVM and K-nearest neighbors), the error rate improves when the digits are centered by bounding box rather than center of mass. If you do this kind of pre-processing, you should report it in your publications. The MNIST database was constructed from NIST's NIST originally designated SD-3 as their training set and SD-1 as their test set. However, SD-3 is much cleaner and easier to recognize than SD-1. The reason for this can be found on the fact that SD-3 was collected among Census Bureau employees, while SD-1 was collected among high-school students. Drawing sensible conclusions from learning experiments requires that the result be independent of the choice of training set and test among the complete set of samples. Therefore it was necessary to build a new database by mixing NIST's datasets.  \n",
            "\n",
            "The MNIST training set is composed of 30,000 patterns from SD-3 and 30,000 patterns from SD-1. Our test set was composed of 5,000 patterns from SD-3 and 5,000 patterns from SD-1. The 60,000 pattern training set contained examples from approximately 250 writers. We made sure that the sets of writers of the training set and test set were disjoint. SD-1 contains 58,527 digit images written by 500 different writers. In contrast to SD-3, where blocks of data from each writer appeared in sequence, the data in SD-1 is scrambled. Writer identities for SD-1 is available and we used this information to unscramble the writers. We then split SD-1 in two: characters written by the first 250 writers went into our new training set. The remaining 250 writers were placed in our test set. Thus we had two sets with nearly 30,000 examples each. The new training set was completed with enough examples from SD-3, starting at pattern # 0, to make a full set of 60,000 training patterns. Similarly, the new test set was completed with SD-3 examples starting at pattern # 35,000 to make a full set with 60,000 test patterns. Only a subset of 10,000 test images (5,000 from SD-1 and 5,000 from SD-3) is available on this site. The full 60,000 sample training set is available.\n",
            "\n",
            "Downloaded from openml.org.\n"
          ]
        }
      ]
    },
    {
      "cell_type": "code",
      "source": [
        "print(type(df.target))\n",
        "df.target"
      ],
      "metadata": {
        "colab": {
          "base_uri": "https://localhost:8080/"
        },
        "id": "89TcZtnOUhRx",
        "outputId": "29008549-7176-4ce4-878b-2e2e8ff95c5f"
      },
      "execution_count": 7,
      "outputs": [
        {
          "output_type": "stream",
          "name": "stdout",
          "text": [
            "<class 'pandas.core.series.Series'>\n"
          ]
        },
        {
          "output_type": "execute_result",
          "data": {
            "text/plain": [
              "0        5\n",
              "1        0\n",
              "2        4\n",
              "3        1\n",
              "4        9\n",
              "        ..\n",
              "69995    2\n",
              "69996    3\n",
              "69997    4\n",
              "69998    5\n",
              "69999    6\n",
              "Name: class, Length: 70000, dtype: category\n",
              "Categories (10, object): ['0', '1', '2', '3', ..., '6', '7', '8', '9']"
            ]
          },
          "metadata": {},
          "execution_count": 7
        }
      ]
    },
    {
      "cell_type": "code",
      "source": [
        "print(type(df.data))\n",
        "df.data"
      ],
      "metadata": {
        "colab": {
          "base_uri": "https://localhost:8080/",
          "height": 505
        },
        "id": "i-nxzfu7UkHI",
        "outputId": "2f4014b2-4269-4e24-9ffa-57ea7521f145"
      },
      "execution_count": 8,
      "outputs": [
        {
          "output_type": "stream",
          "name": "stdout",
          "text": [
            "<class 'pandas.core.frame.DataFrame'>\n"
          ]
        },
        {
          "output_type": "execute_result",
          "data": {
            "text/plain": [
              "       pixel1  pixel2  pixel3  pixel4  pixel5  pixel6  pixel7  pixel8  pixel9  \\\n",
              "0         0.0     0.0     0.0     0.0     0.0     0.0     0.0     0.0     0.0   \n",
              "1         0.0     0.0     0.0     0.0     0.0     0.0     0.0     0.0     0.0   \n",
              "2         0.0     0.0     0.0     0.0     0.0     0.0     0.0     0.0     0.0   \n",
              "3         0.0     0.0     0.0     0.0     0.0     0.0     0.0     0.0     0.0   \n",
              "4         0.0     0.0     0.0     0.0     0.0     0.0     0.0     0.0     0.0   \n",
              "...       ...     ...     ...     ...     ...     ...     ...     ...     ...   \n",
              "69995     0.0     0.0     0.0     0.0     0.0     0.0     0.0     0.0     0.0   \n",
              "69996     0.0     0.0     0.0     0.0     0.0     0.0     0.0     0.0     0.0   \n",
              "69997     0.0     0.0     0.0     0.0     0.0     0.0     0.0     0.0     0.0   \n",
              "69998     0.0     0.0     0.0     0.0     0.0     0.0     0.0     0.0     0.0   \n",
              "69999     0.0     0.0     0.0     0.0     0.0     0.0     0.0     0.0     0.0   \n",
              "\n",
              "       pixel10  ...  pixel775  pixel776  pixel777  pixel778  pixel779  \\\n",
              "0          0.0  ...       0.0       0.0       0.0       0.0       0.0   \n",
              "1          0.0  ...       0.0       0.0       0.0       0.0       0.0   \n",
              "2          0.0  ...       0.0       0.0       0.0       0.0       0.0   \n",
              "3          0.0  ...       0.0       0.0       0.0       0.0       0.0   \n",
              "4          0.0  ...       0.0       0.0       0.0       0.0       0.0   \n",
              "...        ...  ...       ...       ...       ...       ...       ...   \n",
              "69995      0.0  ...       0.0       0.0       0.0       0.0       0.0   \n",
              "69996      0.0  ...       0.0       0.0       0.0       0.0       0.0   \n",
              "69997      0.0  ...       0.0       0.0       0.0       0.0       0.0   \n",
              "69998      0.0  ...       0.0       0.0       0.0       0.0       0.0   \n",
              "69999      0.0  ...       0.0       0.0       0.0       0.0       0.0   \n",
              "\n",
              "       pixel780  pixel781  pixel782  pixel783  pixel784  \n",
              "0           0.0       0.0       0.0       0.0       0.0  \n",
              "1           0.0       0.0       0.0       0.0       0.0  \n",
              "2           0.0       0.0       0.0       0.0       0.0  \n",
              "3           0.0       0.0       0.0       0.0       0.0  \n",
              "4           0.0       0.0       0.0       0.0       0.0  \n",
              "...         ...       ...       ...       ...       ...  \n",
              "69995       0.0       0.0       0.0       0.0       0.0  \n",
              "69996       0.0       0.0       0.0       0.0       0.0  \n",
              "69997       0.0       0.0       0.0       0.0       0.0  \n",
              "69998       0.0       0.0       0.0       0.0       0.0  \n",
              "69999       0.0       0.0       0.0       0.0       0.0  \n",
              "\n",
              "[70000 rows x 784 columns]"
            ],
            "text/html": [
              "\n",
              "  <div id=\"df-fe6afcee-e18b-4682-a6f6-c6f28a2b61d9\">\n",
              "    <div class=\"colab-df-container\">\n",
              "      <div>\n",
              "<style scoped>\n",
              "    .dataframe tbody tr th:only-of-type {\n",
              "        vertical-align: middle;\n",
              "    }\n",
              "\n",
              "    .dataframe tbody tr th {\n",
              "        vertical-align: top;\n",
              "    }\n",
              "\n",
              "    .dataframe thead th {\n",
              "        text-align: right;\n",
              "    }\n",
              "</style>\n",
              "<table border=\"1\" class=\"dataframe\">\n",
              "  <thead>\n",
              "    <tr style=\"text-align: right;\">\n",
              "      <th></th>\n",
              "      <th>pixel1</th>\n",
              "      <th>pixel2</th>\n",
              "      <th>pixel3</th>\n",
              "      <th>pixel4</th>\n",
              "      <th>pixel5</th>\n",
              "      <th>pixel6</th>\n",
              "      <th>pixel7</th>\n",
              "      <th>pixel8</th>\n",
              "      <th>pixel9</th>\n",
              "      <th>pixel10</th>\n",
              "      <th>...</th>\n",
              "      <th>pixel775</th>\n",
              "      <th>pixel776</th>\n",
              "      <th>pixel777</th>\n",
              "      <th>pixel778</th>\n",
              "      <th>pixel779</th>\n",
              "      <th>pixel780</th>\n",
              "      <th>pixel781</th>\n",
              "      <th>pixel782</th>\n",
              "      <th>pixel783</th>\n",
              "      <th>pixel784</th>\n",
              "    </tr>\n",
              "  </thead>\n",
              "  <tbody>\n",
              "    <tr>\n",
              "      <th>0</th>\n",
              "      <td>0.0</td>\n",
              "      <td>0.0</td>\n",
              "      <td>0.0</td>\n",
              "      <td>0.0</td>\n",
              "      <td>0.0</td>\n",
              "      <td>0.0</td>\n",
              "      <td>0.0</td>\n",
              "      <td>0.0</td>\n",
              "      <td>0.0</td>\n",
              "      <td>0.0</td>\n",
              "      <td>...</td>\n",
              "      <td>0.0</td>\n",
              "      <td>0.0</td>\n",
              "      <td>0.0</td>\n",
              "      <td>0.0</td>\n",
              "      <td>0.0</td>\n",
              "      <td>0.0</td>\n",
              "      <td>0.0</td>\n",
              "      <td>0.0</td>\n",
              "      <td>0.0</td>\n",
              "      <td>0.0</td>\n",
              "    </tr>\n",
              "    <tr>\n",
              "      <th>1</th>\n",
              "      <td>0.0</td>\n",
              "      <td>0.0</td>\n",
              "      <td>0.0</td>\n",
              "      <td>0.0</td>\n",
              "      <td>0.0</td>\n",
              "      <td>0.0</td>\n",
              "      <td>0.0</td>\n",
              "      <td>0.0</td>\n",
              "      <td>0.0</td>\n",
              "      <td>0.0</td>\n",
              "      <td>...</td>\n",
              "      <td>0.0</td>\n",
              "      <td>0.0</td>\n",
              "      <td>0.0</td>\n",
              "      <td>0.0</td>\n",
              "      <td>0.0</td>\n",
              "      <td>0.0</td>\n",
              "      <td>0.0</td>\n",
              "      <td>0.0</td>\n",
              "      <td>0.0</td>\n",
              "      <td>0.0</td>\n",
              "    </tr>\n",
              "    <tr>\n",
              "      <th>2</th>\n",
              "      <td>0.0</td>\n",
              "      <td>0.0</td>\n",
              "      <td>0.0</td>\n",
              "      <td>0.0</td>\n",
              "      <td>0.0</td>\n",
              "      <td>0.0</td>\n",
              "      <td>0.0</td>\n",
              "      <td>0.0</td>\n",
              "      <td>0.0</td>\n",
              "      <td>0.0</td>\n",
              "      <td>...</td>\n",
              "      <td>0.0</td>\n",
              "      <td>0.0</td>\n",
              "      <td>0.0</td>\n",
              "      <td>0.0</td>\n",
              "      <td>0.0</td>\n",
              "      <td>0.0</td>\n",
              "      <td>0.0</td>\n",
              "      <td>0.0</td>\n",
              "      <td>0.0</td>\n",
              "      <td>0.0</td>\n",
              "    </tr>\n",
              "    <tr>\n",
              "      <th>3</th>\n",
              "      <td>0.0</td>\n",
              "      <td>0.0</td>\n",
              "      <td>0.0</td>\n",
              "      <td>0.0</td>\n",
              "      <td>0.0</td>\n",
              "      <td>0.0</td>\n",
              "      <td>0.0</td>\n",
              "      <td>0.0</td>\n",
              "      <td>0.0</td>\n",
              "      <td>0.0</td>\n",
              "      <td>...</td>\n",
              "      <td>0.0</td>\n",
              "      <td>0.0</td>\n",
              "      <td>0.0</td>\n",
              "      <td>0.0</td>\n",
              "      <td>0.0</td>\n",
              "      <td>0.0</td>\n",
              "      <td>0.0</td>\n",
              "      <td>0.0</td>\n",
              "      <td>0.0</td>\n",
              "      <td>0.0</td>\n",
              "    </tr>\n",
              "    <tr>\n",
              "      <th>4</th>\n",
              "      <td>0.0</td>\n",
              "      <td>0.0</td>\n",
              "      <td>0.0</td>\n",
              "      <td>0.0</td>\n",
              "      <td>0.0</td>\n",
              "      <td>0.0</td>\n",
              "      <td>0.0</td>\n",
              "      <td>0.0</td>\n",
              "      <td>0.0</td>\n",
              "      <td>0.0</td>\n",
              "      <td>...</td>\n",
              "      <td>0.0</td>\n",
              "      <td>0.0</td>\n",
              "      <td>0.0</td>\n",
              "      <td>0.0</td>\n",
              "      <td>0.0</td>\n",
              "      <td>0.0</td>\n",
              "      <td>0.0</td>\n",
              "      <td>0.0</td>\n",
              "      <td>0.0</td>\n",
              "      <td>0.0</td>\n",
              "    </tr>\n",
              "    <tr>\n",
              "      <th>...</th>\n",
              "      <td>...</td>\n",
              "      <td>...</td>\n",
              "      <td>...</td>\n",
              "      <td>...</td>\n",
              "      <td>...</td>\n",
              "      <td>...</td>\n",
              "      <td>...</td>\n",
              "      <td>...</td>\n",
              "      <td>...</td>\n",
              "      <td>...</td>\n",
              "      <td>...</td>\n",
              "      <td>...</td>\n",
              "      <td>...</td>\n",
              "      <td>...</td>\n",
              "      <td>...</td>\n",
              "      <td>...</td>\n",
              "      <td>...</td>\n",
              "      <td>...</td>\n",
              "      <td>...</td>\n",
              "      <td>...</td>\n",
              "      <td>...</td>\n",
              "    </tr>\n",
              "    <tr>\n",
              "      <th>69995</th>\n",
              "      <td>0.0</td>\n",
              "      <td>0.0</td>\n",
              "      <td>0.0</td>\n",
              "      <td>0.0</td>\n",
              "      <td>0.0</td>\n",
              "      <td>0.0</td>\n",
              "      <td>0.0</td>\n",
              "      <td>0.0</td>\n",
              "      <td>0.0</td>\n",
              "      <td>0.0</td>\n",
              "      <td>...</td>\n",
              "      <td>0.0</td>\n",
              "      <td>0.0</td>\n",
              "      <td>0.0</td>\n",
              "      <td>0.0</td>\n",
              "      <td>0.0</td>\n",
              "      <td>0.0</td>\n",
              "      <td>0.0</td>\n",
              "      <td>0.0</td>\n",
              "      <td>0.0</td>\n",
              "      <td>0.0</td>\n",
              "    </tr>\n",
              "    <tr>\n",
              "      <th>69996</th>\n",
              "      <td>0.0</td>\n",
              "      <td>0.0</td>\n",
              "      <td>0.0</td>\n",
              "      <td>0.0</td>\n",
              "      <td>0.0</td>\n",
              "      <td>0.0</td>\n",
              "      <td>0.0</td>\n",
              "      <td>0.0</td>\n",
              "      <td>0.0</td>\n",
              "      <td>0.0</td>\n",
              "      <td>...</td>\n",
              "      <td>0.0</td>\n",
              "      <td>0.0</td>\n",
              "      <td>0.0</td>\n",
              "      <td>0.0</td>\n",
              "      <td>0.0</td>\n",
              "      <td>0.0</td>\n",
              "      <td>0.0</td>\n",
              "      <td>0.0</td>\n",
              "      <td>0.0</td>\n",
              "      <td>0.0</td>\n",
              "    </tr>\n",
              "    <tr>\n",
              "      <th>69997</th>\n",
              "      <td>0.0</td>\n",
              "      <td>0.0</td>\n",
              "      <td>0.0</td>\n",
              "      <td>0.0</td>\n",
              "      <td>0.0</td>\n",
              "      <td>0.0</td>\n",
              "      <td>0.0</td>\n",
              "      <td>0.0</td>\n",
              "      <td>0.0</td>\n",
              "      <td>0.0</td>\n",
              "      <td>...</td>\n",
              "      <td>0.0</td>\n",
              "      <td>0.0</td>\n",
              "      <td>0.0</td>\n",
              "      <td>0.0</td>\n",
              "      <td>0.0</td>\n",
              "      <td>0.0</td>\n",
              "      <td>0.0</td>\n",
              "      <td>0.0</td>\n",
              "      <td>0.0</td>\n",
              "      <td>0.0</td>\n",
              "    </tr>\n",
              "    <tr>\n",
              "      <th>69998</th>\n",
              "      <td>0.0</td>\n",
              "      <td>0.0</td>\n",
              "      <td>0.0</td>\n",
              "      <td>0.0</td>\n",
              "      <td>0.0</td>\n",
              "      <td>0.0</td>\n",
              "      <td>0.0</td>\n",
              "      <td>0.0</td>\n",
              "      <td>0.0</td>\n",
              "      <td>0.0</td>\n",
              "      <td>...</td>\n",
              "      <td>0.0</td>\n",
              "      <td>0.0</td>\n",
              "      <td>0.0</td>\n",
              "      <td>0.0</td>\n",
              "      <td>0.0</td>\n",
              "      <td>0.0</td>\n",
              "      <td>0.0</td>\n",
              "      <td>0.0</td>\n",
              "      <td>0.0</td>\n",
              "      <td>0.0</td>\n",
              "    </tr>\n",
              "    <tr>\n",
              "      <th>69999</th>\n",
              "      <td>0.0</td>\n",
              "      <td>0.0</td>\n",
              "      <td>0.0</td>\n",
              "      <td>0.0</td>\n",
              "      <td>0.0</td>\n",
              "      <td>0.0</td>\n",
              "      <td>0.0</td>\n",
              "      <td>0.0</td>\n",
              "      <td>0.0</td>\n",
              "      <td>0.0</td>\n",
              "      <td>...</td>\n",
              "      <td>0.0</td>\n",
              "      <td>0.0</td>\n",
              "      <td>0.0</td>\n",
              "      <td>0.0</td>\n",
              "      <td>0.0</td>\n",
              "      <td>0.0</td>\n",
              "      <td>0.0</td>\n",
              "      <td>0.0</td>\n",
              "      <td>0.0</td>\n",
              "      <td>0.0</td>\n",
              "    </tr>\n",
              "  </tbody>\n",
              "</table>\n",
              "<p>70000 rows × 784 columns</p>\n",
              "</div>\n",
              "      <button class=\"colab-df-convert\" onclick=\"convertToInteractive('df-fe6afcee-e18b-4682-a6f6-c6f28a2b61d9')\"\n",
              "              title=\"Convert this dataframe to an interactive table.\"\n",
              "              style=\"display:none;\">\n",
              "        \n",
              "  <svg xmlns=\"http://www.w3.org/2000/svg\" height=\"24px\"viewBox=\"0 0 24 24\"\n",
              "       width=\"24px\">\n",
              "    <path d=\"M0 0h24v24H0V0z\" fill=\"none\"/>\n",
              "    <path d=\"M18.56 5.44l.94 2.06.94-2.06 2.06-.94-2.06-.94-.94-2.06-.94 2.06-2.06.94zm-11 1L8.5 8.5l.94-2.06 2.06-.94-2.06-.94L8.5 2.5l-.94 2.06-2.06.94zm10 10l.94 2.06.94-2.06 2.06-.94-2.06-.94-.94-2.06-.94 2.06-2.06.94z\"/><path d=\"M17.41 7.96l-1.37-1.37c-.4-.4-.92-.59-1.43-.59-.52 0-1.04.2-1.43.59L10.3 9.45l-7.72 7.72c-.78.78-.78 2.05 0 2.83L4 21.41c.39.39.9.59 1.41.59.51 0 1.02-.2 1.41-.59l7.78-7.78 2.81-2.81c.8-.78.8-2.07 0-2.86zM5.41 20L4 18.59l7.72-7.72 1.47 1.35L5.41 20z\"/>\n",
              "  </svg>\n",
              "      </button>\n",
              "      \n",
              "  <style>\n",
              "    .colab-df-container {\n",
              "      display:flex;\n",
              "      flex-wrap:wrap;\n",
              "      gap: 12px;\n",
              "    }\n",
              "\n",
              "    .colab-df-convert {\n",
              "      background-color: #E8F0FE;\n",
              "      border: none;\n",
              "      border-radius: 50%;\n",
              "      cursor: pointer;\n",
              "      display: none;\n",
              "      fill: #1967D2;\n",
              "      height: 32px;\n",
              "      padding: 0 0 0 0;\n",
              "      width: 32px;\n",
              "    }\n",
              "\n",
              "    .colab-df-convert:hover {\n",
              "      background-color: #E2EBFA;\n",
              "      box-shadow: 0px 1px 2px rgba(60, 64, 67, 0.3), 0px 1px 3px 1px rgba(60, 64, 67, 0.15);\n",
              "      fill: #174EA6;\n",
              "    }\n",
              "\n",
              "    [theme=dark] .colab-df-convert {\n",
              "      background-color: #3B4455;\n",
              "      fill: #D2E3FC;\n",
              "    }\n",
              "\n",
              "    [theme=dark] .colab-df-convert:hover {\n",
              "      background-color: #434B5C;\n",
              "      box-shadow: 0px 1px 3px 1px rgba(0, 0, 0, 0.15);\n",
              "      filter: drop-shadow(0px 1px 2px rgba(0, 0, 0, 0.3));\n",
              "      fill: #FFFFFF;\n",
              "    }\n",
              "  </style>\n",
              "\n",
              "      <script>\n",
              "        const buttonEl =\n",
              "          document.querySelector('#df-fe6afcee-e18b-4682-a6f6-c6f28a2b61d9 button.colab-df-convert');\n",
              "        buttonEl.style.display =\n",
              "          google.colab.kernel.accessAllowed ? 'block' : 'none';\n",
              "\n",
              "        async function convertToInteractive(key) {\n",
              "          const element = document.querySelector('#df-fe6afcee-e18b-4682-a6f6-c6f28a2b61d9');\n",
              "          const dataTable =\n",
              "            await google.colab.kernel.invokeFunction('convertToInteractive',\n",
              "                                                     [key], {});\n",
              "          if (!dataTable) return;\n",
              "\n",
              "          const docLinkHtml = 'Like what you see? Visit the ' +\n",
              "            '<a target=\"_blank\" href=https://colab.research.google.com/notebooks/data_table.ipynb>data table notebook</a>'\n",
              "            + ' to learn more about interactive tables.';\n",
              "          element.innerHTML = '';\n",
              "          dataTable['output_type'] = 'display_data';\n",
              "          await google.colab.output.renderOutput(dataTable, element);\n",
              "          const docLink = document.createElement('div');\n",
              "          docLink.innerHTML = docLinkHtml;\n",
              "          element.appendChild(docLink);\n",
              "        }\n",
              "      </script>\n",
              "    </div>\n",
              "  </div>\n",
              "  "
            ]
          },
          "metadata": {},
          "execution_count": 8
        }
      ]
    },
    {
      "cell_type": "code",
      "source": [
        "df.data.values"
      ],
      "metadata": {
        "colab": {
          "base_uri": "https://localhost:8080/"
        },
        "id": "7zkXoctQVgm2",
        "outputId": "7d581730-99dc-4699-d7f6-5534670ae39b"
      },
      "execution_count": 9,
      "outputs": [
        {
          "output_type": "execute_result",
          "data": {
            "text/plain": [
              "array([[0., 0., 0., ..., 0., 0., 0.],\n",
              "       [0., 0., 0., ..., 0., 0., 0.],\n",
              "       [0., 0., 0., ..., 0., 0., 0.],\n",
              "       ...,\n",
              "       [0., 0., 0., ..., 0., 0., 0.],\n",
              "       [0., 0., 0., ..., 0., 0., 0.],\n",
              "       [0., 0., 0., ..., 0., 0., 0.]])"
            ]
          },
          "metadata": {},
          "execution_count": 9
        }
      ]
    },
    {
      "cell_type": "code",
      "source": [
        "X = df.data.values\n",
        "Y = df.target"
      ],
      "metadata": {
        "id": "gIYqQ3V1Wyyt"
      },
      "execution_count": 10,
      "outputs": []
    },
    {
      "cell_type": "code",
      "source": [
        "print(X.shape)\n",
        "print(Y.shape)"
      ],
      "metadata": {
        "colab": {
          "base_uri": "https://localhost:8080/"
        },
        "id": "NdPDp5JCX8D3",
        "outputId": "6e84bd07-b370-4ef2-81d6-958bd930830f"
      },
      "execution_count": 11,
      "outputs": [
        {
          "output_type": "stream",
          "name": "stdout",
          "text": [
            "(70000, 784)\n",
            "(70000,)\n"
          ]
        }
      ]
    },
    {
      "cell_type": "markdown",
      "source": [
        "But one thing to notice here is that Y contains str values and when we give our data for training to model, then we must give in numerical values."
      ],
      "metadata": {
        "id": "SyElgug4dh4B"
      }
    },
    {
      "cell_type": "code",
      "source": [
        "type(Y[0])\n"
      ],
      "metadata": {
        "colab": {
          "base_uri": "https://localhost:8080/"
        },
        "id": "CNnbFUYMYCNH",
        "outputId": "83f09780-9d7b-4822-a27b-51dba094333a"
      },
      "execution_count": 12,
      "outputs": [
        {
          "output_type": "execute_result",
          "data": {
            "text/plain": [
              "str"
            ]
          },
          "metadata": {},
          "execution_count": 12
        }
      ]
    },
    {
      "cell_type": "markdown",
      "source": [
        "So we convert the values in Y(which is a series) into 'int8'"
      ],
      "metadata": {
        "id": "oxR4dz2fd8fE"
      }
    },
    {
      "cell_type": "code",
      "source": [
        "Y = Y.astype('int8')"
      ],
      "metadata": {
        "id": "tX-2SMHWdy8T"
      },
      "execution_count": 13,
      "outputs": []
    },
    {
      "cell_type": "code",
      "source": [
        "# Now let us check the datatype of values in Y\n",
        "type(Y[0])"
      ],
      "metadata": {
        "colab": {
          "base_uri": "https://localhost:8080/"
        },
        "id": "7mDhskb8eF7m",
        "outputId": "6a730932-9dcd-47a0-cc2a-2ecb1ef4b37a"
      },
      "execution_count": 14,
      "outputs": [
        {
          "output_type": "execute_result",
          "data": {
            "text/plain": [
              "numpy.int8"
            ]
          },
          "metadata": {},
          "execution_count": 14
        }
      ]
    },
    {
      "cell_type": "markdown",
      "source": [
        "Let us see the data in X"
      ],
      "metadata": {
        "id": "jMTBPClOeSDo"
      }
    },
    {
      "cell_type": "code",
      "source": [
        "X[0]\n",
        "# it consists of 784 values as the image was stored in the form of a 28 * 28 px 2D array and then reshaped into a 1D array"
      ],
      "metadata": {
        "colab": {
          "base_uri": "https://localhost:8080/"
        },
        "id": "9sFYaF0IeMyg",
        "outputId": "60d87a0a-66bc-4643-bceb-4b47a8399fe7"
      },
      "execution_count": 15,
      "outputs": [
        {
          "output_type": "execute_result",
          "data": {
            "text/plain": [
              "array([  0.,   0.,   0.,   0.,   0.,   0.,   0.,   0.,   0.,   0.,   0.,\n",
              "         0.,   0.,   0.,   0.,   0.,   0.,   0.,   0.,   0.,   0.,   0.,\n",
              "         0.,   0.,   0.,   0.,   0.,   0.,   0.,   0.,   0.,   0.,   0.,\n",
              "         0.,   0.,   0.,   0.,   0.,   0.,   0.,   0.,   0.,   0.,   0.,\n",
              "         0.,   0.,   0.,   0.,   0.,   0.,   0.,   0.,   0.,   0.,   0.,\n",
              "         0.,   0.,   0.,   0.,   0.,   0.,   0.,   0.,   0.,   0.,   0.,\n",
              "         0.,   0.,   0.,   0.,   0.,   0.,   0.,   0.,   0.,   0.,   0.,\n",
              "         0.,   0.,   0.,   0.,   0.,   0.,   0.,   0.,   0.,   0.,   0.,\n",
              "         0.,   0.,   0.,   0.,   0.,   0.,   0.,   0.,   0.,   0.,   0.,\n",
              "         0.,   0.,   0.,   0.,   0.,   0.,   0.,   0.,   0.,   0.,   0.,\n",
              "         0.,   0.,   0.,   0.,   0.,   0.,   0.,   0.,   0.,   0.,   0.,\n",
              "         0.,   0.,   0.,   0.,   0.,   0.,   0.,   0.,   0.,   0.,   0.,\n",
              "         0.,   0.,   0.,   0.,   0.,   0.,   0.,   0.,   0.,   0.,   0.,\n",
              "         0.,   0.,   0.,   0.,   0.,   0.,   0.,   0.,   0.,   3.,  18.,\n",
              "        18.,  18., 126., 136., 175.,  26., 166., 255., 247., 127.,   0.,\n",
              "         0.,   0.,   0.,   0.,   0.,   0.,   0.,   0.,   0.,   0.,   0.,\n",
              "        30.,  36.,  94., 154., 170., 253., 253., 253., 253., 253., 225.,\n",
              "       172., 253., 242., 195.,  64.,   0.,   0.,   0.,   0.,   0.,   0.,\n",
              "         0.,   0.,   0.,   0.,   0.,  49., 238., 253., 253., 253., 253.,\n",
              "       253., 253., 253., 253., 251.,  93.,  82.,  82.,  56.,  39.,   0.,\n",
              "         0.,   0.,   0.,   0.,   0.,   0.,   0.,   0.,   0.,   0.,   0.,\n",
              "        18., 219., 253., 253., 253., 253., 253., 198., 182., 247., 241.,\n",
              "         0.,   0.,   0.,   0.,   0.,   0.,   0.,   0.,   0.,   0.,   0.,\n",
              "         0.,   0.,   0.,   0.,   0.,   0.,   0.,  80., 156., 107., 253.,\n",
              "       253., 205.,  11.,   0.,  43., 154.,   0.,   0.,   0.,   0.,   0.,\n",
              "         0.,   0.,   0.,   0.,   0.,   0.,   0.,   0.,   0.,   0.,   0.,\n",
              "         0.,   0.,   0.,  14.,   1., 154., 253.,  90.,   0.,   0.,   0.,\n",
              "         0.,   0.,   0.,   0.,   0.,   0.,   0.,   0.,   0.,   0.,   0.,\n",
              "         0.,   0.,   0.,   0.,   0.,   0.,   0.,   0.,   0.,   0.,   0.,\n",
              "       139., 253., 190.,   2.,   0.,   0.,   0.,   0.,   0.,   0.,   0.,\n",
              "         0.,   0.,   0.,   0.,   0.,   0.,   0.,   0.,   0.,   0.,   0.,\n",
              "         0.,   0.,   0.,   0.,   0.,   0.,  11., 190., 253.,  70.,   0.,\n",
              "         0.,   0.,   0.,   0.,   0.,   0.,   0.,   0.,   0.,   0.,   0.,\n",
              "         0.,   0.,   0.,   0.,   0.,   0.,   0.,   0.,   0.,   0.,   0.,\n",
              "         0.,   0.,  35., 241., 225., 160., 108.,   1.,   0.,   0.,   0.,\n",
              "         0.,   0.,   0.,   0.,   0.,   0.,   0.,   0.,   0.,   0.,   0.,\n",
              "         0.,   0.,   0.,   0.,   0.,   0.,   0.,   0.,   0.,  81., 240.,\n",
              "       253., 253., 119.,  25.,   0.,   0.,   0.,   0.,   0.,   0.,   0.,\n",
              "         0.,   0.,   0.,   0.,   0.,   0.,   0.,   0.,   0.,   0.,   0.,\n",
              "         0.,   0.,   0.,   0.,   0.,  45., 186., 253., 253., 150.,  27.,\n",
              "         0.,   0.,   0.,   0.,   0.,   0.,   0.,   0.,   0.,   0.,   0.,\n",
              "         0.,   0.,   0.,   0.,   0.,   0.,   0.,   0.,   0.,   0.,   0.,\n",
              "         0.,  16.,  93., 252., 253., 187.,   0.,   0.,   0.,   0.,   0.,\n",
              "         0.,   0.,   0.,   0.,   0.,   0.,   0.,   0.,   0.,   0.,   0.,\n",
              "         0.,   0.,   0.,   0.,   0.,   0.,   0.,   0.,   0., 249., 253.,\n",
              "       249.,  64.,   0.,   0.,   0.,   0.,   0.,   0.,   0.,   0.,   0.,\n",
              "         0.,   0.,   0.,   0.,   0.,   0.,   0.,   0.,   0.,   0.,   0.,\n",
              "         0.,  46., 130., 183., 253., 253., 207.,   2.,   0.,   0.,   0.,\n",
              "         0.,   0.,   0.,   0.,   0.,   0.,   0.,   0.,   0.,   0.,   0.,\n",
              "         0.,   0.,   0.,   0.,   0.,  39., 148., 229., 253., 253., 253.,\n",
              "       250., 182.,   0.,   0.,   0.,   0.,   0.,   0.,   0.,   0.,   0.,\n",
              "         0.,   0.,   0.,   0.,   0.,   0.,   0.,   0.,   0.,  24., 114.,\n",
              "       221., 253., 253., 253., 253., 201.,  78.,   0.,   0.,   0.,   0.,\n",
              "         0.,   0.,   0.,   0.,   0.,   0.,   0.,   0.,   0.,   0.,   0.,\n",
              "         0.,   0.,  23.,  66., 213., 253., 253., 253., 253., 198.,  81.,\n",
              "         2.,   0.,   0.,   0.,   0.,   0.,   0.,   0.,   0.,   0.,   0.,\n",
              "         0.,   0.,   0.,   0.,   0.,   0.,  18., 171., 219., 253., 253.,\n",
              "       253., 253., 195.,  80.,   9.,   0.,   0.,   0.,   0.,   0.,   0.,\n",
              "         0.,   0.,   0.,   0.,   0.,   0.,   0.,   0.,   0.,   0.,  55.,\n",
              "       172., 226., 253., 253., 253., 253., 244., 133.,  11.,   0.,   0.,\n",
              "         0.,   0.,   0.,   0.,   0.,   0.,   0.,   0.,   0.,   0.,   0.,\n",
              "         0.,   0.,   0.,   0.,   0., 136., 253., 253., 253., 212., 135.,\n",
              "       132.,  16.,   0.,   0.,   0.,   0.,   0.,   0.,   0.,   0.,   0.,\n",
              "         0.,   0.,   0.,   0.,   0.,   0.,   0.,   0.,   0.,   0.,   0.,\n",
              "         0.,   0.,   0.,   0.,   0.,   0.,   0.,   0.,   0.,   0.,   0.,\n",
              "         0.,   0.,   0.,   0.,   0.,   0.,   0.,   0.,   0.,   0.,   0.,\n",
              "         0.,   0.,   0.,   0.,   0.,   0.,   0.,   0.,   0.,   0.,   0.,\n",
              "         0.,   0.,   0.,   0.,   0.,   0.,   0.,   0.,   0.,   0.,   0.,\n",
              "         0.,   0.,   0.,   0.,   0.,   0.,   0.,   0.,   0.,   0.,   0.,\n",
              "         0.,   0.,   0.,   0.,   0.,   0.,   0.,   0.,   0.,   0.,   0.,\n",
              "         0.,   0.,   0.,   0.,   0.,   0.,   0.,   0.,   0.,   0.,   0.,\n",
              "         0.,   0.,   0.])"
            ]
          },
          "metadata": {},
          "execution_count": 15
        }
      ]
    },
    {
      "cell_type": "code",
      "source": [
        "plt.imshow(X[0])"
      ],
      "metadata": {
        "colab": {
          "base_uri": "https://localhost:8080/",
          "height": 576
        },
        "id": "qe5kg4S7eVHY",
        "outputId": "e72f458a-f283-4db4-c8c6-91ffe486cfb6"
      },
      "execution_count": 16,
      "outputs": [
        {
          "output_type": "error",
          "ename": "TypeError",
          "evalue": "ignored",
          "traceback": [
            "\u001b[0;31m---------------------------------------------------------------------------\u001b[0m",
            "\u001b[0;31mTypeError\u001b[0m                                 Traceback (most recent call last)",
            "\u001b[0;32m<ipython-input-16-dd42b75498d5>\u001b[0m in \u001b[0;36m<module>\u001b[0;34m()\u001b[0m\n\u001b[0;32m----> 1\u001b[0;31m \u001b[0mplt\u001b[0m\u001b[0;34m.\u001b[0m\u001b[0mimshow\u001b[0m\u001b[0;34m(\u001b[0m\u001b[0mX\u001b[0m\u001b[0;34m[\u001b[0m\u001b[0;36m0\u001b[0m\u001b[0;34m]\u001b[0m\u001b[0;34m)\u001b[0m\u001b[0;34m\u001b[0m\u001b[0;34m\u001b[0m\u001b[0m\n\u001b[0m",
            "\u001b[0;32m/usr/local/lib/python3.7/dist-packages/matplotlib/pyplot.py\u001b[0m in \u001b[0;36mimshow\u001b[0;34m(X, cmap, norm, aspect, interpolation, alpha, vmin, vmax, origin, extent, shape, filternorm, filterrad, imlim, resample, url, data, **kwargs)\u001b[0m\n\u001b[1;32m   2649\u001b[0m         \u001b[0mfilternorm\u001b[0m\u001b[0;34m=\u001b[0m\u001b[0mfilternorm\u001b[0m\u001b[0;34m,\u001b[0m \u001b[0mfilterrad\u001b[0m\u001b[0;34m=\u001b[0m\u001b[0mfilterrad\u001b[0m\u001b[0;34m,\u001b[0m \u001b[0mimlim\u001b[0m\u001b[0;34m=\u001b[0m\u001b[0mimlim\u001b[0m\u001b[0;34m,\u001b[0m\u001b[0;34m\u001b[0m\u001b[0;34m\u001b[0m\u001b[0m\n\u001b[1;32m   2650\u001b[0m         resample=resample, url=url, **({\"data\": data} if data is not\n\u001b[0;32m-> 2651\u001b[0;31m         None else {}), **kwargs)\n\u001b[0m\u001b[1;32m   2652\u001b[0m     \u001b[0msci\u001b[0m\u001b[0;34m(\u001b[0m\u001b[0m__ret\u001b[0m\u001b[0;34m)\u001b[0m\u001b[0;34m\u001b[0m\u001b[0;34m\u001b[0m\u001b[0m\n\u001b[1;32m   2653\u001b[0m     \u001b[0;32mreturn\u001b[0m \u001b[0m__ret\u001b[0m\u001b[0;34m\u001b[0m\u001b[0;34m\u001b[0m\u001b[0m\n",
            "\u001b[0;32m/usr/local/lib/python3.7/dist-packages/matplotlib/__init__.py\u001b[0m in \u001b[0;36minner\u001b[0;34m(ax, data, *args, **kwargs)\u001b[0m\n\u001b[1;32m   1563\u001b[0m     \u001b[0;32mdef\u001b[0m \u001b[0minner\u001b[0m\u001b[0;34m(\u001b[0m\u001b[0max\u001b[0m\u001b[0;34m,\u001b[0m \u001b[0;34m*\u001b[0m\u001b[0margs\u001b[0m\u001b[0;34m,\u001b[0m \u001b[0mdata\u001b[0m\u001b[0;34m=\u001b[0m\u001b[0;32mNone\u001b[0m\u001b[0;34m,\u001b[0m \u001b[0;34m**\u001b[0m\u001b[0mkwargs\u001b[0m\u001b[0;34m)\u001b[0m\u001b[0;34m:\u001b[0m\u001b[0;34m\u001b[0m\u001b[0;34m\u001b[0m\u001b[0m\n\u001b[1;32m   1564\u001b[0m         \u001b[0;32mif\u001b[0m \u001b[0mdata\u001b[0m \u001b[0;32mis\u001b[0m \u001b[0;32mNone\u001b[0m\u001b[0;34m:\u001b[0m\u001b[0;34m\u001b[0m\u001b[0;34m\u001b[0m\u001b[0m\n\u001b[0;32m-> 1565\u001b[0;31m             \u001b[0;32mreturn\u001b[0m \u001b[0mfunc\u001b[0m\u001b[0;34m(\u001b[0m\u001b[0max\u001b[0m\u001b[0;34m,\u001b[0m \u001b[0;34m*\u001b[0m\u001b[0mmap\u001b[0m\u001b[0;34m(\u001b[0m\u001b[0msanitize_sequence\u001b[0m\u001b[0;34m,\u001b[0m \u001b[0margs\u001b[0m\u001b[0;34m)\u001b[0m\u001b[0;34m,\u001b[0m \u001b[0;34m**\u001b[0m\u001b[0mkwargs\u001b[0m\u001b[0;34m)\u001b[0m\u001b[0;34m\u001b[0m\u001b[0;34m\u001b[0m\u001b[0m\n\u001b[0m\u001b[1;32m   1566\u001b[0m \u001b[0;34m\u001b[0m\u001b[0m\n\u001b[1;32m   1567\u001b[0m         \u001b[0mbound\u001b[0m \u001b[0;34m=\u001b[0m \u001b[0mnew_sig\u001b[0m\u001b[0;34m.\u001b[0m\u001b[0mbind\u001b[0m\u001b[0;34m(\u001b[0m\u001b[0max\u001b[0m\u001b[0;34m,\u001b[0m \u001b[0;34m*\u001b[0m\u001b[0margs\u001b[0m\u001b[0;34m,\u001b[0m \u001b[0;34m**\u001b[0m\u001b[0mkwargs\u001b[0m\u001b[0;34m)\u001b[0m\u001b[0;34m\u001b[0m\u001b[0;34m\u001b[0m\u001b[0m\n",
            "\u001b[0;32m/usr/local/lib/python3.7/dist-packages/matplotlib/cbook/deprecation.py\u001b[0m in \u001b[0;36mwrapper\u001b[0;34m(*args, **kwargs)\u001b[0m\n\u001b[1;32m    356\u001b[0m                 \u001b[0;34mf\"%(removal)s.  If any parameter follows {name!r}, they \"\u001b[0m\u001b[0;34m\u001b[0m\u001b[0;34m\u001b[0m\u001b[0m\n\u001b[1;32m    357\u001b[0m                 f\"should be pass as keyword, not positionally.\")\n\u001b[0;32m--> 358\u001b[0;31m         \u001b[0;32mreturn\u001b[0m \u001b[0mfunc\u001b[0m\u001b[0;34m(\u001b[0m\u001b[0;34m*\u001b[0m\u001b[0margs\u001b[0m\u001b[0;34m,\u001b[0m \u001b[0;34m**\u001b[0m\u001b[0mkwargs\u001b[0m\u001b[0;34m)\u001b[0m\u001b[0;34m\u001b[0m\u001b[0;34m\u001b[0m\u001b[0m\n\u001b[0m\u001b[1;32m    359\u001b[0m \u001b[0;34m\u001b[0m\u001b[0m\n\u001b[1;32m    360\u001b[0m     \u001b[0;32mreturn\u001b[0m \u001b[0mwrapper\u001b[0m\u001b[0;34m\u001b[0m\u001b[0;34m\u001b[0m\u001b[0m\n",
            "\u001b[0;32m/usr/local/lib/python3.7/dist-packages/matplotlib/cbook/deprecation.py\u001b[0m in \u001b[0;36mwrapper\u001b[0;34m(*args, **kwargs)\u001b[0m\n\u001b[1;32m    356\u001b[0m                 \u001b[0;34mf\"%(removal)s.  If any parameter follows {name!r}, they \"\u001b[0m\u001b[0;34m\u001b[0m\u001b[0;34m\u001b[0m\u001b[0m\n\u001b[1;32m    357\u001b[0m                 f\"should be pass as keyword, not positionally.\")\n\u001b[0;32m--> 358\u001b[0;31m         \u001b[0;32mreturn\u001b[0m \u001b[0mfunc\u001b[0m\u001b[0;34m(\u001b[0m\u001b[0;34m*\u001b[0m\u001b[0margs\u001b[0m\u001b[0;34m,\u001b[0m \u001b[0;34m**\u001b[0m\u001b[0mkwargs\u001b[0m\u001b[0;34m)\u001b[0m\u001b[0;34m\u001b[0m\u001b[0;34m\u001b[0m\u001b[0m\n\u001b[0m\u001b[1;32m    359\u001b[0m \u001b[0;34m\u001b[0m\u001b[0m\n\u001b[1;32m    360\u001b[0m     \u001b[0;32mreturn\u001b[0m \u001b[0mwrapper\u001b[0m\u001b[0;34m\u001b[0m\u001b[0;34m\u001b[0m\u001b[0m\n",
            "\u001b[0;32m/usr/local/lib/python3.7/dist-packages/matplotlib/axes/_axes.py\u001b[0m in \u001b[0;36mimshow\u001b[0;34m(self, X, cmap, norm, aspect, interpolation, alpha, vmin, vmax, origin, extent, shape, filternorm, filterrad, imlim, resample, url, **kwargs)\u001b[0m\n\u001b[1;32m   5624\u001b[0m                               resample=resample, **kwargs)\n\u001b[1;32m   5625\u001b[0m \u001b[0;34m\u001b[0m\u001b[0m\n\u001b[0;32m-> 5626\u001b[0;31m         \u001b[0mim\u001b[0m\u001b[0;34m.\u001b[0m\u001b[0mset_data\u001b[0m\u001b[0;34m(\u001b[0m\u001b[0mX\u001b[0m\u001b[0;34m)\u001b[0m\u001b[0;34m\u001b[0m\u001b[0;34m\u001b[0m\u001b[0m\n\u001b[0m\u001b[1;32m   5627\u001b[0m         \u001b[0mim\u001b[0m\u001b[0;34m.\u001b[0m\u001b[0mset_alpha\u001b[0m\u001b[0;34m(\u001b[0m\u001b[0malpha\u001b[0m\u001b[0;34m)\u001b[0m\u001b[0;34m\u001b[0m\u001b[0;34m\u001b[0m\u001b[0m\n\u001b[1;32m   5628\u001b[0m         \u001b[0;32mif\u001b[0m \u001b[0mim\u001b[0m\u001b[0;34m.\u001b[0m\u001b[0mget_clip_path\u001b[0m\u001b[0;34m(\u001b[0m\u001b[0;34m)\u001b[0m \u001b[0;32mis\u001b[0m \u001b[0;32mNone\u001b[0m\u001b[0;34m:\u001b[0m\u001b[0;34m\u001b[0m\u001b[0;34m\u001b[0m\u001b[0m\n",
            "\u001b[0;32m/usr/local/lib/python3.7/dist-packages/matplotlib/image.py\u001b[0m in \u001b[0;36mset_data\u001b[0;34m(self, A)\u001b[0m\n\u001b[1;32m    697\u001b[0m                 or self._A.ndim == 3 and self._A.shape[-1] in [3, 4]):\n\u001b[1;32m    698\u001b[0m             raise TypeError(\"Invalid shape {} for image data\"\n\u001b[0;32m--> 699\u001b[0;31m                             .format(self._A.shape))\n\u001b[0m\u001b[1;32m    700\u001b[0m \u001b[0;34m\u001b[0m\u001b[0m\n\u001b[1;32m    701\u001b[0m         \u001b[0;32mif\u001b[0m \u001b[0mself\u001b[0m\u001b[0;34m.\u001b[0m\u001b[0m_A\u001b[0m\u001b[0;34m.\u001b[0m\u001b[0mndim\u001b[0m \u001b[0;34m==\u001b[0m \u001b[0;36m3\u001b[0m\u001b[0;34m:\u001b[0m\u001b[0;34m\u001b[0m\u001b[0;34m\u001b[0m\u001b[0m\n",
            "\u001b[0;31mTypeError\u001b[0m: Invalid shape (784,) for image data"
          ]
        },
        {
          "output_type": "display_data",
          "data": {
            "text/plain": [
              "<Figure size 432x288 with 1 Axes>"
            ],
            "image/png": "[encoded data removed]"
          },
          "metadata": {
            "needs_background": "light"
          }
        }
      ]
    },
    {
      "cell_type": "code",
      "source": [
        "plt.imshow(X[0].reshape(28,28))\n",
        "plt.show()\n",
        "\n",
        "print(\"Target\",Y[0])"
      ],
      "metadata": {
        "colab": {
          "base_uri": "https://localhost:8080/",
          "height": 283
        },
        "id": "ISS6mVIWf49E",
        "outputId": "3369de3f-df79-4e19-e6c4-eff84e3fe7f3"
      },
      "execution_count": 17,
      "outputs": [
        {
          "output_type": "display_data",
          "data": {
            "text/plain": [
              "<Figure size 432x288 with 1 Axes>"
            ],
            "image/png": "[encoded data removed]"
          },
          "metadata": {
            "needs_background": "light"
          }
        },
        {
          "output_type": "stream",
          "name": "stdout",
          "text": [
            "Target 5\n"
          ]
        }
      ]
    },
    {
      "cell_type": "code",
      "source": [
        "# we generalised the above code.\n",
        "idx = 45 # give it any value from 0 to 70000\n",
        "plt.imshow(X[idx].reshape(28,28),cmap = 'Greys')\n",
        "plt.show()\n",
        "\n",
        "print(\"Target\",Y[idx])"
      ],
      "metadata": {
        "colab": {
          "base_uri": "https://localhost:8080/",
          "height": 283
        },
        "id": "0mC_rou5gBxf",
        "outputId": "12794759-f146-4097-da7b-c0d4dd01f03a"
      },
      "execution_count": 18,
      "outputs": [
        {
          "output_type": "display_data",
          "data": {
            "text/plain": [
              "<Figure size 432x288 with 1 Axes>"
            ],
            "image/png": "[encoded data removed]"
          },
          "metadata": {
            "needs_background": "light"
          }
        },
        {
          "output_type": "stream",
          "name": "stdout",
          "text": [
            "Target 9\n"
          ]
        }
      ]
    },
    {
      "cell_type": "code",
      "source": [
        "sns.countplot(x = Y)\n",
        "plt.show()"
      ],
      "metadata": {
        "colab": {
          "base_uri": "https://localhost:8080/",
          "height": 278
        },
        "id": "U-NnWYQGgqAc",
        "outputId": "ae7e9c81-3096-4c91-c899-315d30923b26"
      },
      "execution_count": 19,
      "outputs": [
        {
          "output_type": "display_data",
          "data": {
            "text/plain": [
              "<Figure size 432x288 with 1 Axes>"
            ],
            "image/png": "[encoded data removed]"
          },
          "metadata": {
            "needs_background": "light"
          }
        }
      ]
    },
    {
      "cell_type": "markdown",
      "source": [
        "This is a classification problem. Y here has 10 values.<br>\n",
        "Classification is of two types:\n",
        "- __Binary Classification__\n",
        "- __Multiple Classification__\n",
        "\n",
        "Binary Classifier takes only two values.<br>\n",
        "\n",
        "Here we will be making 5 classifier. That means either the value is 5 or not false and our model should be able to predict whether the values given to it represent 5 or not.<br><br>\n",
        "\n",
        "Actually Multiple Classifier is made on top of Binary Classifier.So we will first learn Binary Classifier."
      ],
      "metadata": {
        "id": "0w0XQETCjmPB"
      }
    },
    {
      "cell_type": "code",
      "source": [
        "y = Y == 5"
      ],
      "metadata": {
        "id": "FxPZYSIbgtnx"
      },
      "execution_count": 20,
      "outputs": []
    },
    {
      "cell_type": "code",
      "source": [
        "print(type(y))\n",
        "print(y.shape)\n",
        "y\n",
        "# jha jha bhi 5 he wha true aa jayega"
      ],
      "metadata": {
        "colab": {
          "base_uri": "https://localhost:8080/"
        },
        "id": "1s-jPSZ2lseL",
        "outputId": "f4eb9afd-9666-4c03-fcd5-e53bbe5cb3af"
      },
      "execution_count": 21,
      "outputs": [
        {
          "output_type": "stream",
          "name": "stdout",
          "text": [
            "<class 'pandas.core.series.Series'>\n",
            "(70000,)\n"
          ]
        },
        {
          "output_type": "execute_result",
          "data": {
            "text/plain": [
              "0         True\n",
              "1        False\n",
              "2        False\n",
              "3        False\n",
              "4        False\n",
              "         ...  \n",
              "69995    False\n",
              "69996    False\n",
              "69997    False\n",
              "69998     True\n",
              "69999    False\n",
              "Name: class, Length: 70000, dtype: bool"
            ]
          },
          "metadata": {},
          "execution_count": 21
        }
      ]
    },
    {
      "cell_type": "markdown",
      "source": [
        "Now we will train the data using X and y. So let us divide the data into training and testing parts."
      ],
      "metadata": {
        "id": "IQqfzHNhmOz8"
      }
    },
    {
      "cell_type": "code",
      "source": [
        "X_train,X_test,y_train,y_test = X[:60000],X[60000:],y[:60000],y[60000:]"
      ],
      "metadata": {
        "id": "6RTsJPe2ltdr"
      },
      "execution_count": 22,
      "outputs": []
    },
    {
      "cell_type": "markdown",
      "source": [
        "## Now we select a classifier and train that using this data. So we use Stochastic Gradient Descent Classifier"
      ],
      "metadata": {
        "id": "i6PyDDXXm6ue"
      }
    },
    {
      "cell_type": "code",
      "source": [
        "from sklearn.linear_model import SGDClassifier\n",
        "\n",
        "# Now let us create an object of SGDClassifier\n",
        "sgdc = SGDClassifier()"
      ],
      "metadata": {
        "id": "DgZ0nVIbl1os"
      },
      "execution_count": 23,
      "outputs": []
    },
    {
      "cell_type": "code",
      "source": [
        "sgdc.fit(X_train,y_train)"
      ],
      "metadata": {
        "colab": {
          "base_uri": "https://localhost:8080/"
        },
        "id": "5EPhxhgRnUGB",
        "outputId": "423b3743-98c0-432d-f703-2d0c4891debf"
      },
      "execution_count": 24,
      "outputs": [
        {
          "output_type": "execute_result",
          "data": {
            "text/plain": [
              "SGDClassifier()"
            ]
          },
          "metadata": {},
          "execution_count": 24
        }
      ]
    },
    {
      "cell_type": "markdown",
      "source": [
        "### Now our model has got trained, So let us check it."
      ],
      "metadata": {
        "id": "1XFTFZlMov3J"
      }
    },
    {
      "cell_type": "code",
      "source": [
        "sgdc.predict([X[1]])"
      ],
      "metadata": {
        "colab": {
          "base_uri": "https://localhost:8080/"
        },
        "id": "4PqZUIu8nW9B",
        "outputId": "bc88cb34-837b-45b2-f2c7-2c253d846580"
      },
      "execution_count": 25,
      "outputs": [
        {
          "output_type": "execute_result",
          "data": {
            "text/plain": [
              "array([False])"
            ]
          },
          "metadata": {},
          "execution_count": 25
        }
      ]
    },
    {
      "cell_type": "code",
      "source": [
        "img = X_test[0]\n",
        "plt.imshow(img.reshape(28,28))\n",
        "plt.show()"
      ],
      "metadata": {
        "colab": {
          "base_uri": "https://localhost:8080/",
          "height": 264
        },
        "id": "5RO6oY3KnkeI",
        "outputId": "95225289-328c-4589-ad7d-6bd5502be5c0"
      },
      "execution_count": 26,
      "outputs": [
        {
          "output_type": "display_data",
          "data": {
            "text/plain": [
              "<Figure size 432x288 with 1 Axes>"
            ],
            "image/png": "[encoded data removed]"
          },
          "metadata": {
            "needs_background": "light"
          }
        }
      ]
    },
    {
      "cell_type": "code",
      "source": [
        "# and now let us see what our model has to say for this\n",
        "print(\"Predicted\",sgdc.predict([img]))"
      ],
      "metadata": {
        "colab": {
          "base_uri": "https://localhost:8080/"
        },
        "id": "5qXGGB_7qDiC",
        "outputId": "0992b188-a743-4f23-f2f0-2f827bbbebf1"
      },
      "execution_count": 27,
      "outputs": [
        {
          "output_type": "stream",
          "name": "stdout",
          "text": [
            "Predicted [False]\n"
          ]
        }
      ]
    },
    {
      "cell_type": "markdown",
      "source": [
        "We see that our model has predicted False which means it is saying that the given image is not 5 which is true."
      ],
      "metadata": {
        "id": "3g8_a4GErz6J"
      }
    },
    {
      "cell_type": "markdown",
      "source": [
        "## Now let us count how many times our model was right."
      ],
      "metadata": {
        "id": "sAD2oV5AroH0"
      }
    },
    {
      "cell_type": "code",
      "source": [
        "y_pred = sgdc.predict(X_test)"
      ],
      "metadata": {
        "id": "mbr7rZpkrx5f"
      },
      "execution_count": 28,
      "outputs": []
    },
    {
      "cell_type": "code",
      "source": [
        "score = y_pred==y_test"
      ],
      "metadata": {
        "id": "wh2AcwnJr0gX"
      },
      "execution_count": 29,
      "outputs": []
    },
    {
      "cell_type": "markdown",
      "source": [
        "__score will give True whenever the output of both of them matches, i.e, whenever the model was right.__"
      ],
      "metadata": {
        "id": "p6Pz1iivsC-7"
      }
    },
    {
      "cell_type": "code",
      "source": [
        "score"
      ],
      "metadata": {
        "colab": {
          "base_uri": "https://localhost:8080/"
        },
        "id": "UvAOOkW0r_6G",
        "outputId": "9b7c1993-bd22-4260-860b-c6d460fdb98c"
      },
      "execution_count": 30,
      "outputs": [
        {
          "output_type": "execute_result",
          "data": {
            "text/plain": [
              "60000    True\n",
              "60001    True\n",
              "60002    True\n",
              "60003    True\n",
              "60004    True\n",
              "         ... \n",
              "69995    True\n",
              "69996    True\n",
              "69997    True\n",
              "69998    True\n",
              "69999    True\n",
              "Name: class, Length: 10000, dtype: bool"
            ]
          },
          "metadata": {},
          "execution_count": 30
        }
      ]
    },
    {
      "cell_type": "code",
      "source": [
        "total_right_pred = score.sum()\n",
        "# This is the number of times our model is right and the total number of data points in our testing dataset is 10000\n",
        "# So our model id 95.53% accurate.\n",
        "total_right_pred"
      ],
      "metadata": {
        "colab": {
          "base_uri": "https://localhost:8080/"
        },
        "id": "ArcK8T6dsBL5",
        "outputId": "751608fd-c319-4f45-ca09-ab53b4891103"
      },
      "execution_count": 39,
      "outputs": [
        {
          "output_type": "execute_result",
          "data": {
            "text/plain": [
              "9553"
            ]
          },
          "metadata": {},
          "execution_count": 39
        }
      ]
    },
    {
      "cell_type": "code",
      "source": [
        "(total_right_pred*100)/y_test.shape[0]"
      ],
      "metadata": {
        "colab": {
          "base_uri": "https://localhost:8080/"
        },
        "id": "mAvumrgQsO50",
        "outputId": "c340cd2e-460d-49b1-89b7-b8ce13315016"
      },
      "execution_count": 41,
      "outputs": [
        {
          "output_type": "execute_result",
          "data": {
            "text/plain": [
              "95.53"
            ]
          },
          "metadata": {},
          "execution_count": 41
        }
      ]
    },
    {
      "cell_type": "markdown",
      "source": [
        "__this could also be done using sklearn modules.__"
      ],
      "metadata": {
        "id": "7CQw0bihu6eU"
      }
    },
    {
      "cell_type": "code",
      "source": [
        "from sklearn.metrics import accuracy_score\n",
        "accuracy_score(y_pred,y_test)"
      ],
      "metadata": {
        "colab": {
          "base_uri": "https://localhost:8080/"
        },
        "id": "MLJUuA8KsUdR",
        "outputId": "b5e99358-be2b-42d6-821e-8b48ed2350ea"
      },
      "execution_count": 42,
      "outputs": [
        {
          "output_type": "execute_result",
          "data": {
            "text/plain": [
              "0.9553"
            ]
          },
          "metadata": {},
          "execution_count": 42
        }
      ]
    },
    {
      "cell_type": "markdown",
      "source": [
        "# Confusion matrix"
      ],
      "metadata": {
        "id": "ESNzoajawcmY"
      }
    },
    {
      "cell_type": "code",
      "source": [
        "from sklearn.metrics import confusion_matrix\n",
        "confusion_matrix(y_test, y_pred)"
      ],
      "metadata": {
        "colab": {
          "base_uri": "https://localhost:8080/"
        },
        "id": "LWKwL-7TvItz",
        "outputId": "972191e7-e7a7-4a4b-9c74-ca43c0339781"
      },
      "execution_count": 43,
      "outputs": [
        {
          "output_type": "execute_result",
          "data": {
            "text/plain": [
              "array([[8771,  337],\n",
              "       [ 110,  782]])"
            ]
          },
          "metadata": {},
          "execution_count": 43
        }
      ]
    },
    {
      "cell_type": "code",
      "source": [
        "sns.heatmap(confusion_matrix(y_test,y_pred),annot=True,lw=5,cmap='jet')\n",
        "plt.show()"
      ],
      "metadata": {
        "colab": {
          "base_uri": "https://localhost:8080/",
          "height": 264
        },
        "id": "LogiBeC-wtfu",
        "outputId": "fdd0003b-01c9-43eb-98ae-df949ef149ac"
      },
      "execution_count": 48,
      "outputs": [
        {
          "output_type": "display_data",
          "data": {
            "text/plain": [
              "<Figure size 432x288 with 2 Axes>"
            ],
            "image/png": "[encoded data removed]"
          },
          "metadata": {
            "needs_background": "light"
          }
        }
      ]
    },
    {
      "cell_type": "code",
      "source": [
        "sns.heatmap(confusion_matrix(y_test,y_pred),annot=True,lw=5,cmap='',fmt='d')\n",
        "plt.show()"
      ],
      "metadata": {
        "colab": {
          "base_uri": "https://localhost:8080/",
          "height": 264
        },
        "id": "inVTHMI2zp8d",
        "outputId": "14070c62-3439-45d1-c59a-30a2b855c234"
      },
      "execution_count": 49,
      "outputs": [
        {
          "output_type": "display_data",
          "data": {
            "text/plain": [
              "<Figure size 432x288 with 2 Axes>"
            ],
            "image/png": "[encoded data removed]"
          },
          "metadata": {
            "needs_background": "light"
          }
        }
      ]
    },
    {
      "cell_type": "markdown",
      "source": [
        "<font color='black'>On The __Y axis__ we have __y_test__ and on the __X axis__ we have __y_pred__. __0__ indicates that a given parameter is __False__ and __1__ indicates that a given parameter is __True__.</font>"
      ],
      "metadata": {
        "id": "l78pMRTfxJGL"
      }
    },
    {
      "cell_type": "markdown",
      "source": [
        "So from the above matrix it is seen that\n",
        "- __#__ of times when __y_pred__ is 0(false) and __y_test__ is also 0(false) is __8771__.(__True Negative__)\n",
        "- __#__ of times when __y_pred__ is 1(True) and __y_test__ is also 1(True) is __782__.(__True Positive__)\n",
        "- __#__ of times when __y_pred__ is 0(false) and __y_test__ is 1(True) is __110__.(__False Negative__)\n",
        "- __#__ of times when __y_pred__ is 1(True) and __y_test__ is 0(False) is __337__.(__False Positive__)\n",
        "\n",
        "\n",
        "We say __True__ when the predicted and actual output is same and __False__ when they are not.<br>\n",
        "We say __Negative__ and __Positive__ on the basis of predicted output."
      ],
      "metadata": {
        "id": "grjnVH0gyd-V"
      }
    },
    {
      "cell_type": "markdown",
      "source": [
        "![image.png](data:image/png;base64,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)\n",
        "![image.png](data:image/png;base64,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)"
      ],
      "metadata": {
        "id": "GKVVaaPC5FnG"
      }
    },
    {
      "cell_type": "markdown",
      "source": [
        "A perfect classifier would have only true positives and true negatives, so its confusion matrix would have nonzero values only on its main diagonal (top left to bottom right)\n",
        "\n",
        "\n",
        "For finding __TP__,__FP__,__TN__,__FN__ always first see predicted result. If that is negative then we use __N__ and if that is positive it is __P__. After that check whether it matches with the actual result or not, if yes then __T__ and if not then __F__."
      ],
      "metadata": {
        "id": "zprAkdgB37PE"
      }
    },
    {
      "cell_type": "markdown",
      "source": [
        "# __PRECISION__"
      ],
      "metadata": {
        "id": "cI2thu-j6NcV"
      }
    },
    {
      "cell_type": "markdown",
      "source": [
        "Precision is known as the accuracy of the positive predictions.\n",
        "- ![image.png](data:image/png;base64,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)"
      ],
      "metadata": {
        "id": "qQ3O7_Sc6UFT"
      }
    },
    {
      "cell_type": "code",
      "source": [
        "from sklearn.metrics import precision_score\n",
        "precision_score(y_test,y_pred)"
      ],
      "metadata": {
        "colab": {
          "base_uri": "https://localhost:8080/"
        },
        "id": "mQLbHiZG6TZj",
        "outputId": "a8b12e8f-ca79-493d-ebf9-435e1e674f9b"
      },
      "execution_count": 51,
      "outputs": [
        {
          "output_type": "execute_result",
          "data": {
            "text/plain": [
              "0.6988382484361036"
            ]
          },
          "metadata": {},
          "execution_count": 51
        }
      ]
    },
    {
      "cell_type": "markdown",
      "source": [
        "This means that out of 100 times when our model says that the image is 5, only 69 are actually 5."
      ],
      "metadata": {
        "id": "r4Y_E9Ta8Ldc"
      }
    },
    {
      "cell_type": "code",
      "source": [
        "782/(337+782)"
      ],
      "metadata": {
        "colab": {
          "base_uri": "https://localhost:8080/"
        },
        "id": "scBtJ-Ls1oiC",
        "outputId": "8b371d01-8210-4cef-9d5d-ec0dc3b8c927"
      },
      "execution_count": 53,
      "outputs": [
        {
          "output_type": "execute_result",
          "data": {
            "text/plain": [
              "0.6988382484361036"
            ]
          },
          "metadata": {},
          "execution_count": 53
        }
      ]
    },
    {
      "cell_type": "markdown",
      "source": [
        "# __RECALL__"
      ],
      "metadata": {
        "id": "LmMA2wlO7qL5"
      }
    },
    {
      "cell_type": "markdown",
      "source": [
        "![image.png](data:image/png;base64,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)"
      ],
      "metadata": {
        "id": "dN3ejjyO7ygY"
      }
    },
    {
      "cell_type": "code",
      "source": [
        "from sklearn.metrics import recall_score\n",
        "recall_score(y_test, y_pred)"
      ],
      "metadata": {
        "colab": {
          "base_uri": "https://localhost:8080/"
        },
        "id": "zB64cUPv63Ty",
        "outputId": "e07f0ef9-758b-40df-8dec-ca9dffc552d1"
      },
      "execution_count": 54,
      "outputs": [
        {
          "output_type": "execute_result",
          "data": {
            "text/plain": [
              "0.8766816143497758"
            ]
          },
          "metadata": {},
          "execution_count": 54
        }
      ]
    },
    {
      "cell_type": "markdown",
      "source": [
        "This means that if our dataset had 100 5's then our model would be able to catch only 87 of them correctly."
      ],
      "metadata": {
        "id": "1slpZD-r8f9l"
      }
    },
    {
      "cell_type": "markdown",
      "source": [
        "# __F1 - Score__\n",
        "- It is often convenient to combine precision and recall into a single metric called the F1 score, in particular if you need a simple way to compare two classifiers.\n",
        "- The F1 score is the harmonic mean of precision and recall.<br>\n",
        "![image.png](data:image/png;base64,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)\n"
      ],
      "metadata": {
        "id": "dCL5fTU1_0lz"
      }
    },
    {
      "cell_type": "code",
      "source": [
        "from sklearn.metrics import f1_score\n",
        "f1_score(y_test,y_pred)"
      ],
      "metadata": {
        "colab": {
          "base_uri": "https://localhost:8080/"
        },
        "id": "wcngdttF79zN",
        "outputId": "c94171e2-23ed-449b-ff08-edf4fe437f7b"
      },
      "execution_count": 55,
      "outputs": [
        {
          "output_type": "execute_result",
          "data": {
            "text/plain": [
              "0.7777225261064147"
            ]
          },
          "metadata": {},
          "execution_count": 55
        }
      ]
    },
    {
      "cell_type": "code",
      "source": [
        "# Now let us verify this\n",
        "precision = precision_score(y_test,y_pred)\n",
        "recall = recall_score(y_test,y_pred)\n",
        "f1_score_calculated = (2 * precision * recall)/(precision + recall)\n"
      ],
      "metadata": {
        "colab": {
          "base_uri": "https://localhost:8080/"
        },
        "id": "YFGEo8ZMAb1a",
        "outputId": "c147d755-9f7e-43d3-d043-c6a02cd99ddf"
      },
      "execution_count": 56,
      "outputs": [
        {
          "output_type": "execute_result",
          "data": {
            "text/plain": [
              "0.7777225261064147"
            ]
          },
          "metadata": {},
          "execution_count": 56
        }
      ]
    },
    {
      "cell_type": "code",
      "source": [
        "print(\"F1_Score from sklearn_metrics :\",f1_score(y_test,y_pred))\n",
        "print(\"F1_Score by calculation :\",f1_score_calculated)"
      ],
      "metadata": {
        "colab": {
          "base_uri": "https://localhost:8080/"
        },
        "id": "YtHePmGaBcpK",
        "outputId": "7cca8d73-4b79-4be3-f10c-594422ee4ee5"
      },
      "execution_count": 57,
      "outputs": [
        {
          "output_type": "stream",
          "name": "stdout",
          "text": [
            "F1_Score from sklearn_metrics : 0.7777225261064147\n",
            "F1_Score by calculation : 0.7777225261064147\n"
          ]
        }
      ]
    },
    {
      "cell_type": "markdown",
      "source": [
        "# __But what is the criteria to judge a model?__"
      ],
      "metadata": {
        "id": "QkGcvVN6PeMf"
      }
    },
    {
      "cell_type": "markdown",
      "source": [
        "Well, the answer to this question depends on the situation.<br>\n",
        "- In many cases we require high precision and in other cases we require high recall.\n",
        "- Also, note that __Recall__ and __Precision__ are inversely proportional.\n",
        "  - That is if __Recall__ increases then __Precision__ decreases and vice-versa."
      ],
      "metadata": {
        "id": "6-egDVFHPtIp"
      }
    },
    {
      "cell_type": "code",
      "source": [
        ""
      ],
      "metadata": {
        "id": "atgJ5rXmS05U"
      },
      "execution_count": null,
      "outputs": []
    },
    {
      "cell_type": "code",
      "source": [
        ""
      ],
      "metadata": {
        "id": "CoQ54vnbB2By"
      },
      "execution_count": null,
      "outputs": []
    }
  ]
}